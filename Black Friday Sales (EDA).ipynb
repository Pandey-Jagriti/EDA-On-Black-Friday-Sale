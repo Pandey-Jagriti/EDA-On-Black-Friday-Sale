{
 "cells": [
  {
   "cell_type": "code",
   "execution_count": 1,
   "id": "4079de0b",
   "metadata": {},
   "outputs": [],
   "source": [
    "import numpy as np\n",
    "import pandas as pd\n",
    "import matplotlib.pyplot as plt\n",
    "import plotly.express as px\n",
    "import seaborn as sns\n",
    "%matplotlib inline\n",
    "import statistics as st"
   ]
  },
  {
   "cell_type": "code",
   "execution_count": 2,
   "id": "86c842b0",
   "metadata": {},
   "outputs": [],
   "source": [
    "bfs = pd.read_csv(\"C:\\\\Users\\\\Beena Pandey\\\\OneDrive\\\\Desktop\\\\Data\\\\Black Friday Sale Data.csv\")"
   ]
  },
  {
   "cell_type": "code",
   "execution_count": 3,
   "id": "c1713889",
   "metadata": {},
   "outputs": [
    {
     "data": {
      "text/html": [
       "<div>\n",
       "<style scoped>\n",
       "    .dataframe tbody tr th:only-of-type {\n",
       "        vertical-align: middle;\n",
       "    }\n",
       "\n",
       "    .dataframe tbody tr th {\n",
       "        vertical-align: top;\n",
       "    }\n",
       "\n",
       "    .dataframe thead th {\n",
       "        text-align: right;\n",
       "    }\n",
       "</style>\n",
       "<table border=\"1\" class=\"dataframe\">\n",
       "  <thead>\n",
       "    <tr style=\"text-align: right;\">\n",
       "      <th></th>\n",
       "      <th>User_ID</th>\n",
       "      <th>Product_ID</th>\n",
       "      <th>Gender</th>\n",
       "      <th>Age</th>\n",
       "      <th>Occupation</th>\n",
       "      <th>City_Category</th>\n",
       "      <th>Stay_In_Current_City_Years</th>\n",
       "      <th>Marital_Status</th>\n",
       "      <th>Product_Category_1</th>\n",
       "      <th>Product_Category_2</th>\n",
       "      <th>Product_Category_3</th>\n",
       "      <th>Purchase</th>\n",
       "    </tr>\n",
       "  </thead>\n",
       "  <tbody>\n",
       "    <tr>\n",
       "      <th>0</th>\n",
       "      <td>1000001</td>\n",
       "      <td>P00069042</td>\n",
       "      <td>F</td>\n",
       "      <td>0-17</td>\n",
       "      <td>10</td>\n",
       "      <td>A</td>\n",
       "      <td>2</td>\n",
       "      <td>0</td>\n",
       "      <td>3</td>\n",
       "      <td>NaN</td>\n",
       "      <td>NaN</td>\n",
       "      <td>8370</td>\n",
       "    </tr>\n",
       "    <tr>\n",
       "      <th>1</th>\n",
       "      <td>1000001</td>\n",
       "      <td>P00248942</td>\n",
       "      <td>F</td>\n",
       "      <td>0-17</td>\n",
       "      <td>10</td>\n",
       "      <td>A</td>\n",
       "      <td>2</td>\n",
       "      <td>0</td>\n",
       "      <td>1</td>\n",
       "      <td>6.0</td>\n",
       "      <td>14.0</td>\n",
       "      <td>15200</td>\n",
       "    </tr>\n",
       "    <tr>\n",
       "      <th>2</th>\n",
       "      <td>1000001</td>\n",
       "      <td>P00087842</td>\n",
       "      <td>F</td>\n",
       "      <td>0-17</td>\n",
       "      <td>10</td>\n",
       "      <td>A</td>\n",
       "      <td>2</td>\n",
       "      <td>0</td>\n",
       "      <td>12</td>\n",
       "      <td>NaN</td>\n",
       "      <td>NaN</td>\n",
       "      <td>1422</td>\n",
       "    </tr>\n",
       "    <tr>\n",
       "      <th>3</th>\n",
       "      <td>1000001</td>\n",
       "      <td>P00085442</td>\n",
       "      <td>F</td>\n",
       "      <td>0-17</td>\n",
       "      <td>10</td>\n",
       "      <td>A</td>\n",
       "      <td>2</td>\n",
       "      <td>0</td>\n",
       "      <td>12</td>\n",
       "      <td>14.0</td>\n",
       "      <td>NaN</td>\n",
       "      <td>1057</td>\n",
       "    </tr>\n",
       "    <tr>\n",
       "      <th>4</th>\n",
       "      <td>1000002</td>\n",
       "      <td>P00285442</td>\n",
       "      <td>M</td>\n",
       "      <td>55+</td>\n",
       "      <td>16</td>\n",
       "      <td>C</td>\n",
       "      <td>4+</td>\n",
       "      <td>0</td>\n",
       "      <td>8</td>\n",
       "      <td>NaN</td>\n",
       "      <td>NaN</td>\n",
       "      <td>7969</td>\n",
       "    </tr>\n",
       "    <tr>\n",
       "      <th>5</th>\n",
       "      <td>1000003</td>\n",
       "      <td>P00193542</td>\n",
       "      <td>M</td>\n",
       "      <td>26-35</td>\n",
       "      <td>15</td>\n",
       "      <td>A</td>\n",
       "      <td>3</td>\n",
       "      <td>0</td>\n",
       "      <td>1</td>\n",
       "      <td>2.0</td>\n",
       "      <td>NaN</td>\n",
       "      <td>15227</td>\n",
       "    </tr>\n",
       "    <tr>\n",
       "      <th>6</th>\n",
       "      <td>1000004</td>\n",
       "      <td>P00184942</td>\n",
       "      <td>M</td>\n",
       "      <td>46-50</td>\n",
       "      <td>7</td>\n",
       "      <td>B</td>\n",
       "      <td>2</td>\n",
       "      <td>1</td>\n",
       "      <td>1</td>\n",
       "      <td>8.0</td>\n",
       "      <td>17.0</td>\n",
       "      <td>19215</td>\n",
       "    </tr>\n",
       "    <tr>\n",
       "      <th>7</th>\n",
       "      <td>1000004</td>\n",
       "      <td>P00346142</td>\n",
       "      <td>M</td>\n",
       "      <td>46-50</td>\n",
       "      <td>7</td>\n",
       "      <td>B</td>\n",
       "      <td>2</td>\n",
       "      <td>1</td>\n",
       "      <td>1</td>\n",
       "      <td>15.0</td>\n",
       "      <td>NaN</td>\n",
       "      <td>15854</td>\n",
       "    </tr>\n",
       "    <tr>\n",
       "      <th>8</th>\n",
       "      <td>1000004</td>\n",
       "      <td>P0097242</td>\n",
       "      <td>M</td>\n",
       "      <td>46-50</td>\n",
       "      <td>7</td>\n",
       "      <td>B</td>\n",
       "      <td>2</td>\n",
       "      <td>1</td>\n",
       "      <td>1</td>\n",
       "      <td>16.0</td>\n",
       "      <td>NaN</td>\n",
       "      <td>15686</td>\n",
       "    </tr>\n",
       "    <tr>\n",
       "      <th>9</th>\n",
       "      <td>1000005</td>\n",
       "      <td>P00274942</td>\n",
       "      <td>M</td>\n",
       "      <td>26-35</td>\n",
       "      <td>20</td>\n",
       "      <td>A</td>\n",
       "      <td>1</td>\n",
       "      <td>1</td>\n",
       "      <td>8</td>\n",
       "      <td>NaN</td>\n",
       "      <td>NaN</td>\n",
       "      <td>7871</td>\n",
       "    </tr>\n",
       "  </tbody>\n",
       "</table>\n",
       "</div>"
      ],
      "text/plain": [
       "   User_ID Product_ID Gender    Age  Occupation City_Category  \\\n",
       "0  1000001  P00069042      F   0-17          10             A   \n",
       "1  1000001  P00248942      F   0-17          10             A   \n",
       "2  1000001  P00087842      F   0-17          10             A   \n",
       "3  1000001  P00085442      F   0-17          10             A   \n",
       "4  1000002  P00285442      M    55+          16             C   \n",
       "5  1000003  P00193542      M  26-35          15             A   \n",
       "6  1000004  P00184942      M  46-50           7             B   \n",
       "7  1000004  P00346142      M  46-50           7             B   \n",
       "8  1000004   P0097242      M  46-50           7             B   \n",
       "9  1000005  P00274942      M  26-35          20             A   \n",
       "\n",
       "  Stay_In_Current_City_Years  Marital_Status  Product_Category_1  \\\n",
       "0                          2               0                   3   \n",
       "1                          2               0                   1   \n",
       "2                          2               0                  12   \n",
       "3                          2               0                  12   \n",
       "4                         4+               0                   8   \n",
       "5                          3               0                   1   \n",
       "6                          2               1                   1   \n",
       "7                          2               1                   1   \n",
       "8                          2               1                   1   \n",
       "9                          1               1                   8   \n",
       "\n",
       "   Product_Category_2  Product_Category_3  Purchase  \n",
       "0                 NaN                 NaN      8370  \n",
       "1                 6.0                14.0     15200  \n",
       "2                 NaN                 NaN      1422  \n",
       "3                14.0                 NaN      1057  \n",
       "4                 NaN                 NaN      7969  \n",
       "5                 2.0                 NaN     15227  \n",
       "6                 8.0                17.0     19215  \n",
       "7                15.0                 NaN     15854  \n",
       "8                16.0                 NaN     15686  \n",
       "9                 NaN                 NaN      7871  "
      ]
     },
     "execution_count": 3,
     "metadata": {},
     "output_type": "execute_result"
    }
   ],
   "source": [
    "bfs.head(10)"
   ]
  },
  {
   "cell_type": "code",
   "execution_count": 4,
   "id": "6b7c0494",
   "metadata": {},
   "outputs": [
    {
     "data": {
      "text/html": [
       "<div>\n",
       "<style scoped>\n",
       "    .dataframe tbody tr th:only-of-type {\n",
       "        vertical-align: middle;\n",
       "    }\n",
       "\n",
       "    .dataframe tbody tr th {\n",
       "        vertical-align: top;\n",
       "    }\n",
       "\n",
       "    .dataframe thead th {\n",
       "        text-align: right;\n",
       "    }\n",
       "</style>\n",
       "<table border=\"1\" class=\"dataframe\">\n",
       "  <thead>\n",
       "    <tr style=\"text-align: right;\">\n",
       "      <th></th>\n",
       "      <th>User_ID</th>\n",
       "      <th>Product_ID</th>\n",
       "      <th>Gender</th>\n",
       "      <th>Age</th>\n",
       "      <th>Occupation</th>\n",
       "      <th>City_Category</th>\n",
       "      <th>Stay_In_Current_City_Years</th>\n",
       "      <th>Marital_Status</th>\n",
       "      <th>Product_Category_1</th>\n",
       "      <th>Product_Category_2</th>\n",
       "      <th>Product_Category_3</th>\n",
       "      <th>Purchase</th>\n",
       "    </tr>\n",
       "  </thead>\n",
       "  <tbody>\n",
       "    <tr>\n",
       "      <th>550058</th>\n",
       "      <td>1006024</td>\n",
       "      <td>P00372445</td>\n",
       "      <td>M</td>\n",
       "      <td>26-35</td>\n",
       "      <td>12</td>\n",
       "      <td>A</td>\n",
       "      <td>0</td>\n",
       "      <td>1</td>\n",
       "      <td>20</td>\n",
       "      <td>NaN</td>\n",
       "      <td>NaN</td>\n",
       "      <td>121</td>\n",
       "    </tr>\n",
       "    <tr>\n",
       "      <th>550059</th>\n",
       "      <td>1006025</td>\n",
       "      <td>P00370853</td>\n",
       "      <td>F</td>\n",
       "      <td>26-35</td>\n",
       "      <td>1</td>\n",
       "      <td>B</td>\n",
       "      <td>1</td>\n",
       "      <td>0</td>\n",
       "      <td>19</td>\n",
       "      <td>NaN</td>\n",
       "      <td>NaN</td>\n",
       "      <td>48</td>\n",
       "    </tr>\n",
       "    <tr>\n",
       "      <th>550060</th>\n",
       "      <td>1006026</td>\n",
       "      <td>P00371644</td>\n",
       "      <td>M</td>\n",
       "      <td>36-45</td>\n",
       "      <td>6</td>\n",
       "      <td>C</td>\n",
       "      <td>1</td>\n",
       "      <td>1</td>\n",
       "      <td>20</td>\n",
       "      <td>NaN</td>\n",
       "      <td>NaN</td>\n",
       "      <td>494</td>\n",
       "    </tr>\n",
       "    <tr>\n",
       "      <th>550061</th>\n",
       "      <td>1006029</td>\n",
       "      <td>P00372445</td>\n",
       "      <td>F</td>\n",
       "      <td>26-35</td>\n",
       "      <td>1</td>\n",
       "      <td>C</td>\n",
       "      <td>1</td>\n",
       "      <td>1</td>\n",
       "      <td>20</td>\n",
       "      <td>NaN</td>\n",
       "      <td>NaN</td>\n",
       "      <td>599</td>\n",
       "    </tr>\n",
       "    <tr>\n",
       "      <th>550062</th>\n",
       "      <td>1006032</td>\n",
       "      <td>P00372445</td>\n",
       "      <td>M</td>\n",
       "      <td>46-50</td>\n",
       "      <td>7</td>\n",
       "      <td>A</td>\n",
       "      <td>3</td>\n",
       "      <td>0</td>\n",
       "      <td>20</td>\n",
       "      <td>NaN</td>\n",
       "      <td>NaN</td>\n",
       "      <td>473</td>\n",
       "    </tr>\n",
       "    <tr>\n",
       "      <th>550063</th>\n",
       "      <td>1006033</td>\n",
       "      <td>P00372445</td>\n",
       "      <td>M</td>\n",
       "      <td>51-55</td>\n",
       "      <td>13</td>\n",
       "      <td>B</td>\n",
       "      <td>1</td>\n",
       "      <td>1</td>\n",
       "      <td>20</td>\n",
       "      <td>NaN</td>\n",
       "      <td>NaN</td>\n",
       "      <td>368</td>\n",
       "    </tr>\n",
       "    <tr>\n",
       "      <th>550064</th>\n",
       "      <td>1006035</td>\n",
       "      <td>P00375436</td>\n",
       "      <td>F</td>\n",
       "      <td>26-35</td>\n",
       "      <td>1</td>\n",
       "      <td>C</td>\n",
       "      <td>3</td>\n",
       "      <td>0</td>\n",
       "      <td>20</td>\n",
       "      <td>NaN</td>\n",
       "      <td>NaN</td>\n",
       "      <td>371</td>\n",
       "    </tr>\n",
       "    <tr>\n",
       "      <th>550065</th>\n",
       "      <td>1006036</td>\n",
       "      <td>P00375436</td>\n",
       "      <td>F</td>\n",
       "      <td>26-35</td>\n",
       "      <td>15</td>\n",
       "      <td>B</td>\n",
       "      <td>4+</td>\n",
       "      <td>1</td>\n",
       "      <td>20</td>\n",
       "      <td>NaN</td>\n",
       "      <td>NaN</td>\n",
       "      <td>137</td>\n",
       "    </tr>\n",
       "    <tr>\n",
       "      <th>550066</th>\n",
       "      <td>1006038</td>\n",
       "      <td>P00375436</td>\n",
       "      <td>F</td>\n",
       "      <td>55+</td>\n",
       "      <td>1</td>\n",
       "      <td>C</td>\n",
       "      <td>2</td>\n",
       "      <td>0</td>\n",
       "      <td>20</td>\n",
       "      <td>NaN</td>\n",
       "      <td>NaN</td>\n",
       "      <td>365</td>\n",
       "    </tr>\n",
       "    <tr>\n",
       "      <th>550067</th>\n",
       "      <td>1006039</td>\n",
       "      <td>P00371644</td>\n",
       "      <td>F</td>\n",
       "      <td>46-50</td>\n",
       "      <td>0</td>\n",
       "      <td>B</td>\n",
       "      <td>4+</td>\n",
       "      <td>1</td>\n",
       "      <td>20</td>\n",
       "      <td>NaN</td>\n",
       "      <td>NaN</td>\n",
       "      <td>490</td>\n",
       "    </tr>\n",
       "  </tbody>\n",
       "</table>\n",
       "</div>"
      ],
      "text/plain": [
       "        User_ID Product_ID Gender    Age  Occupation City_Category  \\\n",
       "550058  1006024  P00372445      M  26-35          12             A   \n",
       "550059  1006025  P00370853      F  26-35           1             B   \n",
       "550060  1006026  P00371644      M  36-45           6             C   \n",
       "550061  1006029  P00372445      F  26-35           1             C   \n",
       "550062  1006032  P00372445      M  46-50           7             A   \n",
       "550063  1006033  P00372445      M  51-55          13             B   \n",
       "550064  1006035  P00375436      F  26-35           1             C   \n",
       "550065  1006036  P00375436      F  26-35          15             B   \n",
       "550066  1006038  P00375436      F    55+           1             C   \n",
       "550067  1006039  P00371644      F  46-50           0             B   \n",
       "\n",
       "       Stay_In_Current_City_Years  Marital_Status  Product_Category_1  \\\n",
       "550058                          0               1                  20   \n",
       "550059                          1               0                  19   \n",
       "550060                          1               1                  20   \n",
       "550061                          1               1                  20   \n",
       "550062                          3               0                  20   \n",
       "550063                          1               1                  20   \n",
       "550064                          3               0                  20   \n",
       "550065                         4+               1                  20   \n",
       "550066                          2               0                  20   \n",
       "550067                         4+               1                  20   \n",
       "\n",
       "        Product_Category_2  Product_Category_3  Purchase  \n",
       "550058                 NaN                 NaN       121  \n",
       "550059                 NaN                 NaN        48  \n",
       "550060                 NaN                 NaN       494  \n",
       "550061                 NaN                 NaN       599  \n",
       "550062                 NaN                 NaN       473  \n",
       "550063                 NaN                 NaN       368  \n",
       "550064                 NaN                 NaN       371  \n",
       "550065                 NaN                 NaN       137  \n",
       "550066                 NaN                 NaN       365  \n",
       "550067                 NaN                 NaN       490  "
      ]
     },
     "execution_count": 4,
     "metadata": {},
     "output_type": "execute_result"
    }
   ],
   "source": [
    "bfs.tail(10)"
   ]
  },
  {
   "cell_type": "code",
   "execution_count": 5,
   "id": "b208170f",
   "metadata": {},
   "outputs": [
    {
     "name": "stdout",
     "output_type": "stream",
     "text": [
      "<class 'pandas.core.frame.DataFrame'>\n",
      "RangeIndex: 550068 entries, 0 to 550067\n",
      "Data columns (total 12 columns):\n",
      " #   Column                      Non-Null Count   Dtype  \n",
      "---  ------                      --------------   -----  \n",
      " 0   User_ID                     550068 non-null  int64  \n",
      " 1   Product_ID                  550068 non-null  object \n",
      " 2   Gender                      550068 non-null  object \n",
      " 3   Age                         550068 non-null  object \n",
      " 4   Occupation                  550068 non-null  int64  \n",
      " 5   City_Category               550068 non-null  object \n",
      " 6   Stay_In_Current_City_Years  550068 non-null  object \n",
      " 7   Marital_Status              550068 non-null  int64  \n",
      " 8   Product_Category_1          550068 non-null  int64  \n",
      " 9   Product_Category_2          376430 non-null  float64\n",
      " 10  Product_Category_3          166821 non-null  float64\n",
      " 11  Purchase                    550068 non-null  int64  \n",
      "dtypes: float64(2), int64(5), object(5)\n",
      "memory usage: 50.4+ MB\n"
     ]
    }
   ],
   "source": [
    "bfs.info()"
   ]
  },
  {
   "cell_type": "code",
   "execution_count": 6,
   "id": "95633492",
   "metadata": {},
   "outputs": [
    {
     "data": {
      "text/plain": [
       "User_ID                        5891\n",
       "Product_ID                     3631\n",
       "Gender                            2\n",
       "Age                               7\n",
       "Occupation                       21\n",
       "City_Category                     3\n",
       "Stay_In_Current_City_Years        5\n",
       "Marital_Status                    2\n",
       "Product_Category_1               20\n",
       "Product_Category_2               17\n",
       "Product_Category_3               15\n",
       "Purchase                      18105\n",
       "dtype: int64"
      ]
     },
     "execution_count": 6,
     "metadata": {},
     "output_type": "execute_result"
    }
   ],
   "source": [
    "bfs.nunique()"
   ]
  },
  {
   "cell_type": "code",
   "execution_count": 7,
   "id": "adbe1d1b",
   "metadata": {},
   "outputs": [
    {
     "data": {
      "text/plain": [
       "int64      5\n",
       "object     5\n",
       "float64    2\n",
       "dtype: int64"
      ]
     },
     "execution_count": 7,
     "metadata": {},
     "output_type": "execute_result"
    }
   ],
   "source": [
    "# Counting of types of data type\n",
    "\n",
    "bfs.dtypes.value_counts()"
   ]
  },
  {
   "cell_type": "code",
   "execution_count": 8,
   "id": "994c4260",
   "metadata": {},
   "outputs": [
    {
     "data": {
      "text/plain": [
       "(550068, 12)"
      ]
     },
     "execution_count": 8,
     "metadata": {},
     "output_type": "execute_result"
    }
   ],
   "source": [
    "# Counting the total rows and columns in the table\n",
    "\n",
    "bfs.shape"
   ]
  },
  {
   "cell_type": "markdown",
   "id": "25350f56",
   "metadata": {},
   "source": [
    "### Checking the Data Set"
   ]
  },
  {
   "cell_type": "code",
   "execution_count": 9,
   "id": "ddc5089c",
   "metadata": {},
   "outputs": [
    {
     "data": {
      "text/plain": [
       "User_ID                            0\n",
       "Product_ID                         0\n",
       "Gender                             0\n",
       "Age                                0\n",
       "Occupation                         0\n",
       "City_Category                      0\n",
       "Stay_In_Current_City_Years         0\n",
       "Marital_Status                     0\n",
       "Product_Category_1                 0\n",
       "Product_Category_2            173638\n",
       "Product_Category_3            383247\n",
       "Purchase                           0\n",
       "dtype: int64"
      ]
     },
     "execution_count": 9,
     "metadata": {},
     "output_type": "execute_result"
    }
   ],
   "source": [
    "# Let's check if the data has any null values\n",
    "\n",
    "bfs.isnull().sum()"
   ]
  },
  {
   "cell_type": "markdown",
   "id": "f7a2c774",
   "metadata": {},
   "source": [
    "* Our data has a lot of null values in the 'Product_Category_2' and 'Product_Category_3' column. I don't think it is a good idea to remove all the empty rows from the data as this will lead to loss of a lot of data."
   ]
  },
  {
   "cell_type": "code",
   "execution_count": 10,
   "id": "2fd92388",
   "metadata": {},
   "outputs": [
    {
     "data": {
      "image/png": "[encoded data removed]",
      "text/plain": [
       "<Figure size 432x288 with 2 Axes>"
      ]
     },
     "metadata": {
      "needs_background": "light"
     },
     "output_type": "display_data"
    }
   ],
   "source": [
    "sns.heatmap(bfs.isnull())\n",
    "plt.show()"
   ]
  },
  {
   "cell_type": "code",
   "execution_count": 11,
   "id": "50480463",
   "metadata": {},
   "outputs": [
    {
     "data": {
      "text/plain": [
       "556885"
      ]
     },
     "execution_count": 11,
     "metadata": {},
     "output_type": "execute_result"
    }
   ],
   "source": [
    "# Total of all the null values in the dataset\n",
    "\n",
    "bfs.isnull().sum().sum()"
   ]
  },
  {
   "cell_type": "code",
   "execution_count": 12,
   "id": "e2752d37",
   "metadata": {},
   "outputs": [
    {
     "data": {
      "text/plain": [
       "0"
      ]
     },
     "execution_count": 12,
     "metadata": {},
     "output_type": "execute_result"
    }
   ],
   "source": [
    "# Checking for Duplicates\n",
    "\n",
    "bfs.duplicated().sum()"
   ]
  },
  {
   "cell_type": "markdown",
   "id": "b7c2b07b",
   "metadata": {},
   "source": [
    "* Column names are very long and bit complicated. So, we will change them."
   ]
  },
  {
   "cell_type": "code",
   "execution_count": 13,
   "id": "cf5334f2",
   "metadata": {},
   "outputs": [
    {
     "data": {
      "text/html": [
       "<div>\n",
       "<style scoped>\n",
       "    .dataframe tbody tr th:only-of-type {\n",
       "        vertical-align: middle;\n",
       "    }\n",
       "\n",
       "    .dataframe tbody tr th {\n",
       "        vertical-align: top;\n",
       "    }\n",
       "\n",
       "    .dataframe thead th {\n",
       "        text-align: right;\n",
       "    }\n",
       "</style>\n",
       "<table border=\"1\" class=\"dataframe\">\n",
       "  <thead>\n",
       "    <tr style=\"text-align: right;\">\n",
       "      <th></th>\n",
       "      <th>UserID</th>\n",
       "      <th>ProductID</th>\n",
       "      <th>Gender</th>\n",
       "      <th>Age</th>\n",
       "      <th>Occupation</th>\n",
       "      <th>City_Category</th>\n",
       "      <th>City_Stay</th>\n",
       "      <th>MaritalStatus</th>\n",
       "      <th>Product1</th>\n",
       "      <th>Product2</th>\n",
       "      <th>Product3</th>\n",
       "      <th>Purchase</th>\n",
       "    </tr>\n",
       "  </thead>\n",
       "  <tbody>\n",
       "    <tr>\n",
       "      <th>0</th>\n",
       "      <td>1000001</td>\n",
       "      <td>P00069042</td>\n",
       "      <td>F</td>\n",
       "      <td>0-17</td>\n",
       "      <td>10</td>\n",
       "      <td>A</td>\n",
       "      <td>2</td>\n",
       "      <td>0</td>\n",
       "      <td>3</td>\n",
       "      <td>NaN</td>\n",
       "      <td>NaN</td>\n",
       "      <td>8370</td>\n",
       "    </tr>\n",
       "    <tr>\n",
       "      <th>1</th>\n",
       "      <td>1000001</td>\n",
       "      <td>P00248942</td>\n",
       "      <td>F</td>\n",
       "      <td>0-17</td>\n",
       "      <td>10</td>\n",
       "      <td>A</td>\n",
       "      <td>2</td>\n",
       "      <td>0</td>\n",
       "      <td>1</td>\n",
       "      <td>6.0</td>\n",
       "      <td>14.0</td>\n",
       "      <td>15200</td>\n",
       "    </tr>\n",
       "    <tr>\n",
       "      <th>2</th>\n",
       "      <td>1000001</td>\n",
       "      <td>P00087842</td>\n",
       "      <td>F</td>\n",
       "      <td>0-17</td>\n",
       "      <td>10</td>\n",
       "      <td>A</td>\n",
       "      <td>2</td>\n",
       "      <td>0</td>\n",
       "      <td>12</td>\n",
       "      <td>NaN</td>\n",
       "      <td>NaN</td>\n",
       "      <td>1422</td>\n",
       "    </tr>\n",
       "    <tr>\n",
       "      <th>3</th>\n",
       "      <td>1000001</td>\n",
       "      <td>P00085442</td>\n",
       "      <td>F</td>\n",
       "      <td>0-17</td>\n",
       "      <td>10</td>\n",
       "      <td>A</td>\n",
       "      <td>2</td>\n",
       "      <td>0</td>\n",
       "      <td>12</td>\n",
       "      <td>14.0</td>\n",
       "      <td>NaN</td>\n",
       "      <td>1057</td>\n",
       "    </tr>\n",
       "    <tr>\n",
       "      <th>4</th>\n",
       "      <td>1000002</td>\n",
       "      <td>P00285442</td>\n",
       "      <td>M</td>\n",
       "      <td>55+</td>\n",
       "      <td>16</td>\n",
       "      <td>C</td>\n",
       "      <td>4+</td>\n",
       "      <td>0</td>\n",
       "      <td>8</td>\n",
       "      <td>NaN</td>\n",
       "      <td>NaN</td>\n",
       "      <td>7969</td>\n",
       "    </tr>\n",
       "    <tr>\n",
       "      <th>5</th>\n",
       "      <td>1000003</td>\n",
       "      <td>P00193542</td>\n",
       "      <td>M</td>\n",
       "      <td>26-35</td>\n",
       "      <td>15</td>\n",
       "      <td>A</td>\n",
       "      <td>3</td>\n",
       "      <td>0</td>\n",
       "      <td>1</td>\n",
       "      <td>2.0</td>\n",
       "      <td>NaN</td>\n",
       "      <td>15227</td>\n",
       "    </tr>\n",
       "    <tr>\n",
       "      <th>6</th>\n",
       "      <td>1000004</td>\n",
       "      <td>P00184942</td>\n",
       "      <td>M</td>\n",
       "      <td>46-50</td>\n",
       "      <td>7</td>\n",
       "      <td>B</td>\n",
       "      <td>2</td>\n",
       "      <td>1</td>\n",
       "      <td>1</td>\n",
       "      <td>8.0</td>\n",
       "      <td>17.0</td>\n",
       "      <td>19215</td>\n",
       "    </tr>\n",
       "    <tr>\n",
       "      <th>7</th>\n",
       "      <td>1000004</td>\n",
       "      <td>P00346142</td>\n",
       "      <td>M</td>\n",
       "      <td>46-50</td>\n",
       "      <td>7</td>\n",
       "      <td>B</td>\n",
       "      <td>2</td>\n",
       "      <td>1</td>\n",
       "      <td>1</td>\n",
       "      <td>15.0</td>\n",
       "      <td>NaN</td>\n",
       "      <td>15854</td>\n",
       "    </tr>\n",
       "    <tr>\n",
       "      <th>8</th>\n",
       "      <td>1000004</td>\n",
       "      <td>P0097242</td>\n",
       "      <td>M</td>\n",
       "      <td>46-50</td>\n",
       "      <td>7</td>\n",
       "      <td>B</td>\n",
       "      <td>2</td>\n",
       "      <td>1</td>\n",
       "      <td>1</td>\n",
       "      <td>16.0</td>\n",
       "      <td>NaN</td>\n",
       "      <td>15686</td>\n",
       "    </tr>\n",
       "    <tr>\n",
       "      <th>9</th>\n",
       "      <td>1000005</td>\n",
       "      <td>P00274942</td>\n",
       "      <td>M</td>\n",
       "      <td>26-35</td>\n",
       "      <td>20</td>\n",
       "      <td>A</td>\n",
       "      <td>1</td>\n",
       "      <td>1</td>\n",
       "      <td>8</td>\n",
       "      <td>NaN</td>\n",
       "      <td>NaN</td>\n",
       "      <td>7871</td>\n",
       "    </tr>\n",
       "  </tbody>\n",
       "</table>\n",
       "</div>"
      ],
      "text/plain": [
       "    UserID  ProductID Gender    Age  Occupation City_Category City_Stay  \\\n",
       "0  1000001  P00069042      F   0-17          10             A         2   \n",
       "1  1000001  P00248942      F   0-17          10             A         2   \n",
       "2  1000001  P00087842      F   0-17          10             A         2   \n",
       "3  1000001  P00085442      F   0-17          10             A         2   \n",
       "4  1000002  P00285442      M    55+          16             C        4+   \n",
       "5  1000003  P00193542      M  26-35          15             A         3   \n",
       "6  1000004  P00184942      M  46-50           7             B         2   \n",
       "7  1000004  P00346142      M  46-50           7             B         2   \n",
       "8  1000004   P0097242      M  46-50           7             B         2   \n",
       "9  1000005  P00274942      M  26-35          20             A         1   \n",
       "\n",
       "   MaritalStatus  Product1  Product2  Product3  Purchase  \n",
       "0              0         3       NaN       NaN      8370  \n",
       "1              0         1       6.0      14.0     15200  \n",
       "2              0        12       NaN       NaN      1422  \n",
       "3              0        12      14.0       NaN      1057  \n",
       "4              0         8       NaN       NaN      7969  \n",
       "5              0         1       2.0       NaN     15227  \n",
       "6              1         1       8.0      17.0     19215  \n",
       "7              1         1      15.0       NaN     15854  \n",
       "8              1         1      16.0       NaN     15686  \n",
       "9              1         8       NaN       NaN      7871  "
      ]
     },
     "execution_count": 13,
     "metadata": {},
     "output_type": "execute_result"
    }
   ],
   "source": [
    "# Renaming the column names\n",
    "\n",
    "bfs.rename(columns = {'User_ID':'UserID', 'Product_ID':'ProductID', 'Stay_In_Current_City_Years':'City_Stay', 'Marital_Status':'MaritalStatus', 'Product_Category_1':'Product1', 'Product_Category_2':'Product2', 'Product_Category_3':'Product3'}, inplace = True)\n",
    "\n",
    "bfs.head(10)"
   ]
  },
  {
   "cell_type": "markdown",
   "id": "4ee8fc09",
   "metadata": {},
   "source": [
    "###### Droping out unnecessary data"
   ]
  },
  {
   "cell_type": "markdown",
   "id": "9c6128f7",
   "metadata": {},
   "source": [
    "* 'ProductID' column in the 'bfs' dataset seems unnecessary. And removing it from the dataset won't cause us any harm."
   ]
  },
  {
   "cell_type": "code",
   "execution_count": 14,
   "id": "f7390311",
   "metadata": {},
   "outputs": [
    {
     "data": {
      "text/html": [
       "<div>\n",
       "<style scoped>\n",
       "    .dataframe tbody tr th:only-of-type {\n",
       "        vertical-align: middle;\n",
       "    }\n",
       "\n",
       "    .dataframe tbody tr th {\n",
       "        vertical-align: top;\n",
       "    }\n",
       "\n",
       "    .dataframe thead th {\n",
       "        text-align: right;\n",
       "    }\n",
       "</style>\n",
       "<table border=\"1\" class=\"dataframe\">\n",
       "  <thead>\n",
       "    <tr style=\"text-align: right;\">\n",
       "      <th></th>\n",
       "      <th>UserID</th>\n",
       "      <th>Gender</th>\n",
       "      <th>Age</th>\n",
       "      <th>Occupation</th>\n",
       "      <th>City_Category</th>\n",
       "      <th>City_Stay</th>\n",
       "      <th>MaritalStatus</th>\n",
       "      <th>Product1</th>\n",
       "      <th>Product2</th>\n",
       "      <th>Product3</th>\n",
       "      <th>Purchase</th>\n",
       "    </tr>\n",
       "  </thead>\n",
       "  <tbody>\n",
       "    <tr>\n",
       "      <th>0</th>\n",
       "      <td>1000001</td>\n",
       "      <td>F</td>\n",
       "      <td>0-17</td>\n",
       "      <td>10</td>\n",
       "      <td>A</td>\n",
       "      <td>2</td>\n",
       "      <td>0</td>\n",
       "      <td>3</td>\n",
       "      <td>NaN</td>\n",
       "      <td>NaN</td>\n",
       "      <td>8370</td>\n",
       "    </tr>\n",
       "    <tr>\n",
       "      <th>1</th>\n",
       "      <td>1000001</td>\n",
       "      <td>F</td>\n",
       "      <td>0-17</td>\n",
       "      <td>10</td>\n",
       "      <td>A</td>\n",
       "      <td>2</td>\n",
       "      <td>0</td>\n",
       "      <td>1</td>\n",
       "      <td>6.0</td>\n",
       "      <td>14.0</td>\n",
       "      <td>15200</td>\n",
       "    </tr>\n",
       "    <tr>\n",
       "      <th>2</th>\n",
       "      <td>1000001</td>\n",
       "      <td>F</td>\n",
       "      <td>0-17</td>\n",
       "      <td>10</td>\n",
       "      <td>A</td>\n",
       "      <td>2</td>\n",
       "      <td>0</td>\n",
       "      <td>12</td>\n",
       "      <td>NaN</td>\n",
       "      <td>NaN</td>\n",
       "      <td>1422</td>\n",
       "    </tr>\n",
       "    <tr>\n",
       "      <th>3</th>\n",
       "      <td>1000001</td>\n",
       "      <td>F</td>\n",
       "      <td>0-17</td>\n",
       "      <td>10</td>\n",
       "      <td>A</td>\n",
       "      <td>2</td>\n",
       "      <td>0</td>\n",
       "      <td>12</td>\n",
       "      <td>14.0</td>\n",
       "      <td>NaN</td>\n",
       "      <td>1057</td>\n",
       "    </tr>\n",
       "    <tr>\n",
       "      <th>4</th>\n",
       "      <td>1000002</td>\n",
       "      <td>M</td>\n",
       "      <td>55+</td>\n",
       "      <td>16</td>\n",
       "      <td>C</td>\n",
       "      <td>4+</td>\n",
       "      <td>0</td>\n",
       "      <td>8</td>\n",
       "      <td>NaN</td>\n",
       "      <td>NaN</td>\n",
       "      <td>7969</td>\n",
       "    </tr>\n",
       "  </tbody>\n",
       "</table>\n",
       "</div>"
      ],
      "text/plain": [
       "    UserID Gender   Age  Occupation City_Category City_Stay  MaritalStatus  \\\n",
       "0  1000001      F  0-17          10             A         2              0   \n",
       "1  1000001      F  0-17          10             A         2              0   \n",
       "2  1000001      F  0-17          10             A         2              0   \n",
       "3  1000001      F  0-17          10             A         2              0   \n",
       "4  1000002      M   55+          16             C        4+              0   \n",
       "\n",
       "   Product1  Product2  Product3  Purchase  \n",
       "0         3       NaN       NaN      8370  \n",
       "1         1       6.0      14.0     15200  \n",
       "2        12       NaN       NaN      1422  \n",
       "3        12      14.0       NaN      1057  \n",
       "4         8       NaN       NaN      7969  "
      ]
     },
     "execution_count": 14,
     "metadata": {},
     "output_type": "execute_result"
    }
   ],
   "source": [
    "bfs.drop(['ProductID'], inplace = True, axis = 'columns')\n",
    "\n",
    "bfs.head(5)"
   ]
  },
  {
   "cell_type": "markdown",
   "id": "c670b30f",
   "metadata": {},
   "source": [
    "### Data Cleaning "
   ]
  },
  {
   "cell_type": "markdown",
   "id": "7879dbc6",
   "metadata": {},
   "source": [
    "* We'll start clean the data column wise."
   ]
  },
  {
   "cell_type": "markdown",
   "id": "fe140420",
   "metadata": {},
   "source": [
    "_Column: UserID_"
   ]
  },
  {
   "cell_type": "code",
   "execution_count": 15,
   "id": "b5dcb36e",
   "metadata": {},
   "outputs": [
    {
     "data": {
      "text/plain": [
       "array([1000001, 1000002, 1000003, ..., 1004113, 1005391, 1001529],\n",
       "      dtype=int64)"
      ]
     },
     "execution_count": 15,
     "metadata": {},
     "output_type": "execute_result"
    }
   ],
   "source": [
    "bfs['UserID'].unique()"
   ]
  },
  {
   "cell_type": "code",
   "execution_count": 16,
   "id": "92c4ccf1",
   "metadata": {},
   "outputs": [
    {
     "data": {
      "text/plain": [
       "dtype('int64')"
      ]
     },
     "execution_count": 16,
     "metadata": {},
     "output_type": "execute_result"
    }
   ],
   "source": [
    "bfs['UserID'].dtype"
   ]
  },
  {
   "cell_type": "markdown",
   "id": "2a0e4174",
   "metadata": {},
   "source": [
    "I don't think we need to make any changes to this column."
   ]
  },
  {
   "cell_type": "markdown",
   "id": "49144128",
   "metadata": {},
   "source": [
    "_Column: Gender_"
   ]
  },
  {
   "cell_type": "code",
   "execution_count": 17,
   "id": "662f861c",
   "metadata": {},
   "outputs": [
    {
     "data": {
      "text/plain": [
       "array(['F', 'M'], dtype=object)"
      ]
     },
     "execution_count": 17,
     "metadata": {},
     "output_type": "execute_result"
    }
   ],
   "source": [
    "bfs['Gender'].unique()"
   ]
  },
  {
   "cell_type": "code",
   "execution_count": 18,
   "id": "dc737efa",
   "metadata": {},
   "outputs": [
    {
     "data": {
      "text/plain": [
       "414259"
      ]
     },
     "execution_count": 18,
     "metadata": {},
     "output_type": "execute_result"
    }
   ],
   "source": [
    "bfs['Gender'].value_counts()['M']"
   ]
  },
  {
   "cell_type": "code",
   "execution_count": 19,
   "id": "6b79ef85",
   "metadata": {},
   "outputs": [
    {
     "data": {
      "text/plain": [
       "135809"
      ]
     },
     "execution_count": 19,
     "metadata": {},
     "output_type": "execute_result"
    }
   ],
   "source": [
    "bfs['Gender'].value_counts()['F']"
   ]
  },
  {
   "cell_type": "code",
   "execution_count": 20,
   "id": "3e5dede6",
   "metadata": {},
   "outputs": [
    {
     "data": {
      "text/html": [
       "<div>\n",
       "<style scoped>\n",
       "    .dataframe tbody tr th:only-of-type {\n",
       "        vertical-align: middle;\n",
       "    }\n",
       "\n",
       "    .dataframe tbody tr th {\n",
       "        vertical-align: top;\n",
       "    }\n",
       "\n",
       "    .dataframe thead th {\n",
       "        text-align: right;\n",
       "    }\n",
       "</style>\n",
       "<table border=\"1\" class=\"dataframe\">\n",
       "  <thead>\n",
       "    <tr style=\"text-align: right;\">\n",
       "      <th></th>\n",
       "      <th>UserID</th>\n",
       "      <th>Gender</th>\n",
       "      <th>Age</th>\n",
       "      <th>Occupation</th>\n",
       "      <th>City_Category</th>\n",
       "      <th>City_Stay</th>\n",
       "      <th>MaritalStatus</th>\n",
       "      <th>Product1</th>\n",
       "      <th>Product2</th>\n",
       "      <th>Product3</th>\n",
       "      <th>Purchase</th>\n",
       "    </tr>\n",
       "  </thead>\n",
       "  <tbody>\n",
       "    <tr>\n",
       "      <th>0</th>\n",
       "      <td>1000001</td>\n",
       "      <td>F</td>\n",
       "      <td>0-17</td>\n",
       "      <td>10</td>\n",
       "      <td>A</td>\n",
       "      <td>2</td>\n",
       "      <td>0</td>\n",
       "      <td>3</td>\n",
       "      <td>NaN</td>\n",
       "      <td>NaN</td>\n",
       "      <td>8370</td>\n",
       "    </tr>\n",
       "    <tr>\n",
       "      <th>1</th>\n",
       "      <td>1000001</td>\n",
       "      <td>F</td>\n",
       "      <td>0-17</td>\n",
       "      <td>10</td>\n",
       "      <td>A</td>\n",
       "      <td>2</td>\n",
       "      <td>0</td>\n",
       "      <td>1</td>\n",
       "      <td>6.0</td>\n",
       "      <td>14.0</td>\n",
       "      <td>15200</td>\n",
       "    </tr>\n",
       "    <tr>\n",
       "      <th>2</th>\n",
       "      <td>1000001</td>\n",
       "      <td>F</td>\n",
       "      <td>0-17</td>\n",
       "      <td>10</td>\n",
       "      <td>A</td>\n",
       "      <td>2</td>\n",
       "      <td>0</td>\n",
       "      <td>12</td>\n",
       "      <td>NaN</td>\n",
       "      <td>NaN</td>\n",
       "      <td>1422</td>\n",
       "    </tr>\n",
       "    <tr>\n",
       "      <th>3</th>\n",
       "      <td>1000001</td>\n",
       "      <td>F</td>\n",
       "      <td>0-17</td>\n",
       "      <td>10</td>\n",
       "      <td>A</td>\n",
       "      <td>2</td>\n",
       "      <td>0</td>\n",
       "      <td>12</td>\n",
       "      <td>14.0</td>\n",
       "      <td>NaN</td>\n",
       "      <td>1057</td>\n",
       "    </tr>\n",
       "    <tr>\n",
       "      <th>4</th>\n",
       "      <td>1000002</td>\n",
       "      <td>M</td>\n",
       "      <td>55+</td>\n",
       "      <td>16</td>\n",
       "      <td>C</td>\n",
       "      <td>4+</td>\n",
       "      <td>0</td>\n",
       "      <td>8</td>\n",
       "      <td>NaN</td>\n",
       "      <td>NaN</td>\n",
       "      <td>7969</td>\n",
       "    </tr>\n",
       "  </tbody>\n",
       "</table>\n",
       "</div>"
      ],
      "text/plain": [
       "    UserID Gender   Age  Occupation City_Category City_Stay  MaritalStatus  \\\n",
       "0  1000001      F  0-17          10             A         2              0   \n",
       "1  1000001      F  0-17          10             A         2              0   \n",
       "2  1000001      F  0-17          10             A         2              0   \n",
       "3  1000001      F  0-17          10             A         2              0   \n",
       "4  1000002      M   55+          16             C        4+              0   \n",
       "\n",
       "   Product1  Product2  Product3  Purchase  \n",
       "0         3       NaN       NaN      8370  \n",
       "1         1       6.0      14.0     15200  \n",
       "2        12       NaN       NaN      1422  \n",
       "3        12      14.0       NaN      1057  \n",
       "4         8       NaN       NaN      7969  "
      ]
     },
     "execution_count": 20,
     "metadata": {},
     "output_type": "execute_result"
    }
   ],
   "source": [
    "bfs.head(5)"
   ]
  },
  {
   "cell_type": "code",
   "execution_count": 21,
   "id": "f62a515b",
   "metadata": {},
   "outputs": [
    {
     "name": "stdout",
     "output_type": "stream",
     "text": [
      "<class 'pandas.core.frame.DataFrame'>\n",
      "RangeIndex: 550068 entries, 0 to 550067\n",
      "Data columns (total 11 columns):\n",
      " #   Column         Non-Null Count   Dtype  \n",
      "---  ------         --------------   -----  \n",
      " 0   UserID         550068 non-null  int64  \n",
      " 1   Gender         550068 non-null  object \n",
      " 2   Age            550068 non-null  object \n",
      " 3   Occupation     550068 non-null  int64  \n",
      " 4   City_Category  550068 non-null  object \n",
      " 5   City_Stay      550068 non-null  object \n",
      " 6   MaritalStatus  550068 non-null  int64  \n",
      " 7   Product1       550068 non-null  int64  \n",
      " 8   Product2       376430 non-null  float64\n",
      " 9   Product3       166821 non-null  float64\n",
      " 10  Purchase       550068 non-null  int64  \n",
      "dtypes: float64(2), int64(5), object(4)\n",
      "memory usage: 46.2+ MB\n"
     ]
    }
   ],
   "source": [
    "bfs.info()"
   ]
  },
  {
   "cell_type": "markdown",
   "id": "95c31280",
   "metadata": {},
   "source": [
    "_Column: Age_"
   ]
  },
  {
   "cell_type": "code",
   "execution_count": 22,
   "id": "85e76d99",
   "metadata": {},
   "outputs": [
    {
     "data": {
      "text/plain": [
       "array(['0-17', '55+', '26-35', '46-50', '51-55', '36-45', '18-25'],\n",
       "      dtype=object)"
      ]
     },
     "execution_count": 22,
     "metadata": {},
     "output_type": "execute_result"
    }
   ],
   "source": [
    "bfs['Age'].unique()"
   ]
  },
  {
   "cell_type": "markdown",
   "id": "0fba3d96",
   "metadata": {},
   "source": [
    "The data in this column is in intervals. We will name these intervals as child, adult etc"
   ]
  },
  {
   "cell_type": "code",
   "execution_count": 23,
   "id": "790d049b",
   "metadata": {},
   "outputs": [],
   "source": [
    "def Ages(value):\n",
    "    if '0-17' in value:\n",
    "        value = value.replace('0-17', 'Child')\n",
    "        return str(value)\n",
    "    elif '18-25' in value:\n",
    "        value = value.replace('18-25', 'Teenage')\n",
    "        return str(value)\n",
    "    elif '26-35' in value:\n",
    "        value = value.replace('26-35', 'Adult')\n",
    "        return str(value)\n",
    "    elif '36-45' in value:\n",
    "        value = value.replace('36-45', 'Adult')\n",
    "        return str(value)\n",
    "    elif '46-50' in value:\n",
    "        value = value.replace('46-50', 'Adult')\n",
    "        return str(value)\n",
    "    elif '51-55' in value:\n",
    "        value = value.replace('51-55', 'Old')\n",
    "        return str(value)\n",
    "    else:\n",
    "        value = value.replace('55+', 'Old')\n",
    "        return str(value)\n",
    "\n",
    "bfs['Age'] = bfs['Age'].apply(Ages)"
   ]
  },
  {
   "cell_type": "code",
   "execution_count": 24,
   "id": "c9844493",
   "metadata": {},
   "outputs": [
    {
     "data": {
      "text/html": [
       "<div>\n",
       "<style scoped>\n",
       "    .dataframe tbody tr th:only-of-type {\n",
       "        vertical-align: middle;\n",
       "    }\n",
       "\n",
       "    .dataframe tbody tr th {\n",
       "        vertical-align: top;\n",
       "    }\n",
       "\n",
       "    .dataframe thead th {\n",
       "        text-align: right;\n",
       "    }\n",
       "</style>\n",
       "<table border=\"1\" class=\"dataframe\">\n",
       "  <thead>\n",
       "    <tr style=\"text-align: right;\">\n",
       "      <th></th>\n",
       "      <th>UserID</th>\n",
       "      <th>Gender</th>\n",
       "      <th>Age</th>\n",
       "      <th>Occupation</th>\n",
       "      <th>City_Category</th>\n",
       "      <th>City_Stay</th>\n",
       "      <th>MaritalStatus</th>\n",
       "      <th>Product1</th>\n",
       "      <th>Product2</th>\n",
       "      <th>Product3</th>\n",
       "      <th>Purchase</th>\n",
       "    </tr>\n",
       "  </thead>\n",
       "  <tbody>\n",
       "    <tr>\n",
       "      <th>0</th>\n",
       "      <td>1000001</td>\n",
       "      <td>F</td>\n",
       "      <td>Child</td>\n",
       "      <td>10</td>\n",
       "      <td>A</td>\n",
       "      <td>2</td>\n",
       "      <td>0</td>\n",
       "      <td>3</td>\n",
       "      <td>NaN</td>\n",
       "      <td>NaN</td>\n",
       "      <td>8370</td>\n",
       "    </tr>\n",
       "    <tr>\n",
       "      <th>1</th>\n",
       "      <td>1000001</td>\n",
       "      <td>F</td>\n",
       "      <td>Child</td>\n",
       "      <td>10</td>\n",
       "      <td>A</td>\n",
       "      <td>2</td>\n",
       "      <td>0</td>\n",
       "      <td>1</td>\n",
       "      <td>6.0</td>\n",
       "      <td>14.0</td>\n",
       "      <td>15200</td>\n",
       "    </tr>\n",
       "    <tr>\n",
       "      <th>2</th>\n",
       "      <td>1000001</td>\n",
       "      <td>F</td>\n",
       "      <td>Child</td>\n",
       "      <td>10</td>\n",
       "      <td>A</td>\n",
       "      <td>2</td>\n",
       "      <td>0</td>\n",
       "      <td>12</td>\n",
       "      <td>NaN</td>\n",
       "      <td>NaN</td>\n",
       "      <td>1422</td>\n",
       "    </tr>\n",
       "    <tr>\n",
       "      <th>3</th>\n",
       "      <td>1000001</td>\n",
       "      <td>F</td>\n",
       "      <td>Child</td>\n",
       "      <td>10</td>\n",
       "      <td>A</td>\n",
       "      <td>2</td>\n",
       "      <td>0</td>\n",
       "      <td>12</td>\n",
       "      <td>14.0</td>\n",
       "      <td>NaN</td>\n",
       "      <td>1057</td>\n",
       "    </tr>\n",
       "    <tr>\n",
       "      <th>4</th>\n",
       "      <td>1000002</td>\n",
       "      <td>M</td>\n",
       "      <td>Old</td>\n",
       "      <td>16</td>\n",
       "      <td>C</td>\n",
       "      <td>4+</td>\n",
       "      <td>0</td>\n",
       "      <td>8</td>\n",
       "      <td>NaN</td>\n",
       "      <td>NaN</td>\n",
       "      <td>7969</td>\n",
       "    </tr>\n",
       "  </tbody>\n",
       "</table>\n",
       "</div>"
      ],
      "text/plain": [
       "    UserID Gender    Age  Occupation City_Category City_Stay  MaritalStatus  \\\n",
       "0  1000001      F  Child          10             A         2              0   \n",
       "1  1000001      F  Child          10             A         2              0   \n",
       "2  1000001      F  Child          10             A         2              0   \n",
       "3  1000001      F  Child          10             A         2              0   \n",
       "4  1000002      M    Old          16             C        4+              0   \n",
       "\n",
       "   Product1  Product2  Product3  Purchase  \n",
       "0         3       NaN       NaN      8370  \n",
       "1         1       6.0      14.0     15200  \n",
       "2        12       NaN       NaN      1422  \n",
       "3        12      14.0       NaN      1057  \n",
       "4         8       NaN       NaN      7969  "
      ]
     },
     "execution_count": 24,
     "metadata": {},
     "output_type": "execute_result"
    }
   ],
   "source": [
    "bfs.head(5)"
   ]
  },
  {
   "cell_type": "markdown",
   "id": "93ecf253",
   "metadata": {},
   "source": [
    "* Over here we have replaced the age groups according to the categories.\n",
    "* We have replaced numerical data into categorical data.\n",
    "* The types of categories are: Child, Adult, Teenage and Old.\n",
    "    \n",
    "1. 0-17 -> Child\n",
    "2. 18-25 -> Teenage\n",
    "3. 26-35 -> Adult\n",
    "4. 36-45 -> Adult\n",
    "5. 46-50 -> Adult\n",
    "6. 51-55 -> Old\n",
    "7. 55+ -> Old"
   ]
  },
  {
   "cell_type": "markdown",
   "id": "ee766be3",
   "metadata": {},
   "source": [
    "_*Column: Occupation*_"
   ]
  },
  {
   "cell_type": "code",
   "execution_count": 25,
   "id": "d489d31e",
   "metadata": {},
   "outputs": [
    {
     "data": {
      "text/plain": [
       "array([10, 16, 15,  7, 20,  9,  1, 12, 17,  0,  3,  4, 11,  8, 19,  2, 18,\n",
       "        5, 14, 13,  6], dtype=int64)"
      ]
     },
     "execution_count": 25,
     "metadata": {},
     "output_type": "execute_result"
    }
   ],
   "source": [
    "bfs['Occupation'].unique()"
   ]
  },
  {
   "cell_type": "markdown",
   "id": "e66cfb2b",
   "metadata": {},
   "source": [
    "_*Column: City_Category*_"
   ]
  },
  {
   "cell_type": "code",
   "execution_count": 26,
   "id": "8cdc8359",
   "metadata": {},
   "outputs": [
    {
     "data": {
      "text/plain": [
       "array(['A', 'C', 'B'], dtype=object)"
      ]
     },
     "execution_count": 26,
     "metadata": {},
     "output_type": "execute_result"
    }
   ],
   "source": [
    "bfs['City_Category'].unique()"
   ]
  },
  {
   "cell_type": "markdown",
   "id": "6eef4a9a",
   "metadata": {},
   "source": [
    "_*Column: City*_"
   ]
  },
  {
   "cell_type": "code",
   "execution_count": 27,
   "id": "833585b4",
   "metadata": {},
   "outputs": [
    {
     "data": {
      "text/plain": [
       "array(['2', '4+', '3', '1', '0'], dtype=object)"
      ]
     },
     "execution_count": 27,
     "metadata": {},
     "output_type": "execute_result"
    }
   ],
   "source": [
    "bfs['City_Stay'].unique()"
   ]
  },
  {
   "cell_type": "code",
   "execution_count": 28,
   "id": "7e17db0a",
   "metadata": {},
   "outputs": [],
   "source": [
    "def Cities(value):\n",
    "    if '+' in value:\n",
    "        value = value.replace('+', '')\n",
    "        return int(value)\n",
    "    else:\n",
    "        return int(value)\n",
    "    \n",
    "bfs['City_Stay'] = bfs['City_Stay'].apply(Cities)"
   ]
  },
  {
   "cell_type": "code",
   "execution_count": 29,
   "id": "a2e83542",
   "metadata": {},
   "outputs": [
    {
     "data": {
      "text/plain": [
       "array([2, 4, 3, 1, 0], dtype=int64)"
      ]
     },
     "execution_count": 29,
     "metadata": {},
     "output_type": "execute_result"
    }
   ],
   "source": [
    "bfs['City_Stay'].unique()"
   ]
  },
  {
   "cell_type": "markdown",
   "id": "83f486f2",
   "metadata": {},
   "source": [
    "_*Column: Marital_Status*_"
   ]
  },
  {
   "cell_type": "code",
   "execution_count": 30,
   "id": "36f8ad23",
   "metadata": {},
   "outputs": [
    {
     "data": {
      "text/plain": [
       "array([0, 1], dtype=int64)"
      ]
     },
     "execution_count": 30,
     "metadata": {},
     "output_type": "execute_result"
    }
   ],
   "source": [
    "bfs['MaritalStatus'].unique()"
   ]
  },
  {
   "cell_type": "markdown",
   "id": "b86a387e",
   "metadata": {},
   "source": [
    "* There's nothing to change in this column.\n",
    "    1. Here married status -> 1\n",
    "    2. Whereas single status -> 0"
   ]
  },
  {
   "cell_type": "markdown",
   "id": "25492c35",
   "metadata": {},
   "source": [
    "_*Column: Product1*_"
   ]
  },
  {
   "cell_type": "code",
   "execution_count": 31,
   "id": "9860c79b",
   "metadata": {},
   "outputs": [
    {
     "data": {
      "text/plain": [
       "array([ 3,  1, 12,  8,  5,  4,  2,  6, 14, 11, 13, 15,  7, 16, 18, 10, 17,\n",
       "        9, 20, 19], dtype=int64)"
      ]
     },
     "execution_count": 31,
     "metadata": {},
     "output_type": "execute_result"
    }
   ],
   "source": [
    "bfs['Product1'].unique()"
   ]
  },
  {
   "cell_type": "markdown",
   "id": "b9caf569",
   "metadata": {},
   "source": [
    "_*Column: Product2*_"
   ]
  },
  {
   "cell_type": "code",
   "execution_count": 32,
   "id": "0314dd21",
   "metadata": {},
   "outputs": [
    {
     "data": {
      "text/plain": [
       "array([nan,  6., 14.,  2.,  8., 15., 16., 11.,  5.,  3.,  4., 12.,  9.,\n",
       "       10., 17., 13.,  7., 18.])"
      ]
     },
     "execution_count": 32,
     "metadata": {},
     "output_type": "execute_result"
    }
   ],
   "source": [
    "bfs['Product2'].unique()"
   ]
  },
  {
   "cell_type": "code",
   "execution_count": 33,
   "id": "6e0ca50a",
   "metadata": {},
   "outputs": [
    {
     "data": {
      "text/plain": [
       "8.0     64088\n",
       "14.0    55108\n",
       "2.0     49217\n",
       "16.0    43255\n",
       "15.0    37855\n",
       "5.0     26235\n",
       "4.0     25677\n",
       "6.0     16466\n",
       "11.0    14134\n",
       "17.0    13320\n",
       "13.0    10531\n",
       "9.0      5693\n",
       "12.0     5528\n",
       "10.0     3043\n",
       "3.0      2884\n",
       "18.0     2770\n",
       "7.0       626\n",
       "Name: Product2, dtype: int64"
      ]
     },
     "execution_count": 33,
     "metadata": {},
     "output_type": "execute_result"
    }
   ],
   "source": [
    "bfs['Product2'].value_counts()"
   ]
  },
  {
   "cell_type": "markdown",
   "id": "c26cff83",
   "metadata": {},
   "source": [
    "* Now, we'll have to deal with these null values."
   ]
  },
  {
   "cell_type": "code",
   "execution_count": 34,
   "id": "acb4de11",
   "metadata": {},
   "outputs": [
    {
     "data": {
      "text/plain": [
       "173638"
      ]
     },
     "execution_count": 34,
     "metadata": {},
     "output_type": "execute_result"
    }
   ],
   "source": [
    "bfs['Product2'].isnull().sum()"
   ]
  },
  {
   "cell_type": "code",
   "execution_count": 35,
   "id": "ecca5539",
   "metadata": {},
   "outputs": [
    {
     "data": {
      "text/plain": [
       "10"
      ]
     },
     "execution_count": 35,
     "metadata": {},
     "output_type": "execute_result"
    }
   ],
   "source": [
    "s1 = round(bfs['Product2'].mean())\n",
    "s1"
   ]
  },
  {
   "cell_type": "code",
   "execution_count": 36,
   "id": "5fac2b3b",
   "metadata": {},
   "outputs": [],
   "source": [
    "bfs['Product2'].fillna(s1, inplace = True)"
   ]
  },
  {
   "cell_type": "code",
   "execution_count": 37,
   "id": "88f1ab4b",
   "metadata": {},
   "outputs": [
    {
     "name": "stdout",
     "output_type": "stream",
     "text": [
      "<class 'pandas.core.frame.DataFrame'>\n",
      "RangeIndex: 550068 entries, 0 to 550067\n",
      "Data columns (total 11 columns):\n",
      " #   Column         Non-Null Count   Dtype  \n",
      "---  ------         --------------   -----  \n",
      " 0   UserID         550068 non-null  int64  \n",
      " 1   Gender         550068 non-null  object \n",
      " 2   Age            550068 non-null  object \n",
      " 3   Occupation     550068 non-null  int64  \n",
      " 4   City_Category  550068 non-null  object \n",
      " 5   City_Stay      550068 non-null  int64  \n",
      " 6   MaritalStatus  550068 non-null  int64  \n",
      " 7   Product1       550068 non-null  int64  \n",
      " 8   Product2       550068 non-null  float64\n",
      " 9   Product3       166821 non-null  float64\n",
      " 10  Purchase       550068 non-null  int64  \n",
      "dtypes: float64(2), int64(6), object(3)\n",
      "memory usage: 46.2+ MB\n"
     ]
    }
   ],
   "source": [
    "bfs.info()"
   ]
  },
  {
   "cell_type": "code",
   "execution_count": 38,
   "id": "a66bc0c5",
   "metadata": {},
   "outputs": [
    {
     "data": {
      "text/plain": [
       "UserID             int64\n",
       "Gender            object\n",
       "Age               object\n",
       "Occupation         int64\n",
       "City_Category     object\n",
       "City_Stay          int64\n",
       "MaritalStatus      int64\n",
       "Product1           int64\n",
       "Product2           int32\n",
       "Product3         float64\n",
       "Purchase           int64\n",
       "dtype: object"
      ]
     },
     "execution_count": 38,
     "metadata": {},
     "output_type": "execute_result"
    }
   ],
   "source": [
    "bfs['Product2'] = bfs['Product2'].astype(int)\n",
    "bfs.dtypes"
   ]
  },
  {
   "cell_type": "markdown",
   "id": "0149d7a0",
   "metadata": {},
   "source": [
    "_*Column: Product3*_"
   ]
  },
  {
   "cell_type": "code",
   "execution_count": 39,
   "id": "cdc1c6f3",
   "metadata": {},
   "outputs": [
    {
     "data": {
      "text/plain": [
       "array([nan, 14., 17.,  5.,  4., 16., 15.,  8.,  9., 13.,  6., 12.,  3.,\n",
       "       18., 11., 10.])"
      ]
     },
     "execution_count": 39,
     "metadata": {},
     "output_type": "execute_result"
    }
   ],
   "source": [
    "bfs['Product3'].unique()"
   ]
  },
  {
   "cell_type": "code",
   "execution_count": 40,
   "id": "ede1b3ce",
   "metadata": {},
   "outputs": [
    {
     "data": {
      "text/plain": [
       "383247"
      ]
     },
     "execution_count": 40,
     "metadata": {},
     "output_type": "execute_result"
    }
   ],
   "source": [
    "bfs['Product3'].isnull().sum()"
   ]
  },
  {
   "cell_type": "markdown",
   "id": "8e54dc90",
   "metadata": {},
   "source": [
    "* Column 'Product3' also has null values."
   ]
  },
  {
   "cell_type": "code",
   "execution_count": 41,
   "id": "8c8c4e48",
   "metadata": {},
   "outputs": [
    {
     "data": {
      "text/plain": [
       "13"
      ]
     },
     "execution_count": 41,
     "metadata": {},
     "output_type": "execute_result"
    }
   ],
   "source": [
    "s2 = round(bfs['Product3'].mean())\n",
    "s2"
   ]
  },
  {
   "cell_type": "code",
   "execution_count": 42,
   "id": "8a750e18",
   "metadata": {},
   "outputs": [],
   "source": [
    "bfs['Product3'].fillna(s2, inplace = True)"
   ]
  },
  {
   "cell_type": "code",
   "execution_count": 43,
   "id": "868ecb94",
   "metadata": {},
   "outputs": [
    {
     "name": "stdout",
     "output_type": "stream",
     "text": [
      "<class 'pandas.core.frame.DataFrame'>\n",
      "RangeIndex: 550068 entries, 0 to 550067\n",
      "Data columns (total 11 columns):\n",
      " #   Column         Non-Null Count   Dtype  \n",
      "---  ------         --------------   -----  \n",
      " 0   UserID         550068 non-null  int64  \n",
      " 1   Gender         550068 non-null  object \n",
      " 2   Age            550068 non-null  object \n",
      " 3   Occupation     550068 non-null  int64  \n",
      " 4   City_Category  550068 non-null  object \n",
      " 5   City_Stay      550068 non-null  int64  \n",
      " 6   MaritalStatus  550068 non-null  int64  \n",
      " 7   Product1       550068 non-null  int64  \n",
      " 8   Product2       550068 non-null  int32  \n",
      " 9   Product3       550068 non-null  float64\n",
      " 10  Purchase       550068 non-null  int64  \n",
      "dtypes: float64(1), int32(1), int64(6), object(3)\n",
      "memory usage: 44.1+ MB\n"
     ]
    }
   ],
   "source": [
    "bfs.info()"
   ]
  },
  {
   "cell_type": "code",
   "execution_count": 44,
   "id": "b4242b2f",
   "metadata": {},
   "outputs": [
    {
     "data": {
      "text/plain": [
       "UserID            int64\n",
       "Gender           object\n",
       "Age              object\n",
       "Occupation        int64\n",
       "City_Category    object\n",
       "City_Stay         int64\n",
       "MaritalStatus     int64\n",
       "Product1          int64\n",
       "Product2          int32\n",
       "Product3          int32\n",
       "Purchase          int64\n",
       "dtype: object"
      ]
     },
     "execution_count": 44,
     "metadata": {},
     "output_type": "execute_result"
    }
   ],
   "source": [
    "bfs['Product3'] = bfs['Product3'].astype(int)\n",
    "bfs.dtypes"
   ]
  },
  {
   "cell_type": "code",
   "execution_count": 45,
   "id": "5554a68d",
   "metadata": {},
   "outputs": [
    {
     "data": {
      "text/html": [
       "<div>\n",
       "<style scoped>\n",
       "    .dataframe tbody tr th:only-of-type {\n",
       "        vertical-align: middle;\n",
       "    }\n",
       "\n",
       "    .dataframe tbody tr th {\n",
       "        vertical-align: top;\n",
       "    }\n",
       "\n",
       "    .dataframe thead th {\n",
       "        text-align: right;\n",
       "    }\n",
       "</style>\n",
       "<table border=\"1\" class=\"dataframe\">\n",
       "  <thead>\n",
       "    <tr style=\"text-align: right;\">\n",
       "      <th></th>\n",
       "      <th>UserID</th>\n",
       "      <th>Gender</th>\n",
       "      <th>Age</th>\n",
       "      <th>Occupation</th>\n",
       "      <th>City_Category</th>\n",
       "      <th>City_Stay</th>\n",
       "      <th>MaritalStatus</th>\n",
       "      <th>Product1</th>\n",
       "      <th>Product2</th>\n",
       "      <th>Product3</th>\n",
       "      <th>Purchase</th>\n",
       "    </tr>\n",
       "  </thead>\n",
       "  <tbody>\n",
       "    <tr>\n",
       "      <th>0</th>\n",
       "      <td>1000001</td>\n",
       "      <td>F</td>\n",
       "      <td>Child</td>\n",
       "      <td>10</td>\n",
       "      <td>A</td>\n",
       "      <td>2</td>\n",
       "      <td>0</td>\n",
       "      <td>3</td>\n",
       "      <td>10</td>\n",
       "      <td>13</td>\n",
       "      <td>8370</td>\n",
       "    </tr>\n",
       "    <tr>\n",
       "      <th>1</th>\n",
       "      <td>1000001</td>\n",
       "      <td>F</td>\n",
       "      <td>Child</td>\n",
       "      <td>10</td>\n",
       "      <td>A</td>\n",
       "      <td>2</td>\n",
       "      <td>0</td>\n",
       "      <td>1</td>\n",
       "      <td>6</td>\n",
       "      <td>14</td>\n",
       "      <td>15200</td>\n",
       "    </tr>\n",
       "    <tr>\n",
       "      <th>2</th>\n",
       "      <td>1000001</td>\n",
       "      <td>F</td>\n",
       "      <td>Child</td>\n",
       "      <td>10</td>\n",
       "      <td>A</td>\n",
       "      <td>2</td>\n",
       "      <td>0</td>\n",
       "      <td>12</td>\n",
       "      <td>10</td>\n",
       "      <td>13</td>\n",
       "      <td>1422</td>\n",
       "    </tr>\n",
       "    <tr>\n",
       "      <th>3</th>\n",
       "      <td>1000001</td>\n",
       "      <td>F</td>\n",
       "      <td>Child</td>\n",
       "      <td>10</td>\n",
       "      <td>A</td>\n",
       "      <td>2</td>\n",
       "      <td>0</td>\n",
       "      <td>12</td>\n",
       "      <td>14</td>\n",
       "      <td>13</td>\n",
       "      <td>1057</td>\n",
       "    </tr>\n",
       "    <tr>\n",
       "      <th>4</th>\n",
       "      <td>1000002</td>\n",
       "      <td>M</td>\n",
       "      <td>Old</td>\n",
       "      <td>16</td>\n",
       "      <td>C</td>\n",
       "      <td>4</td>\n",
       "      <td>0</td>\n",
       "      <td>8</td>\n",
       "      <td>10</td>\n",
       "      <td>13</td>\n",
       "      <td>7969</td>\n",
       "    </tr>\n",
       "  </tbody>\n",
       "</table>\n",
       "</div>"
      ],
      "text/plain": [
       "    UserID Gender    Age  Occupation City_Category  City_Stay  MaritalStatus  \\\n",
       "0  1000001      F  Child          10             A          2              0   \n",
       "1  1000001      F  Child          10             A          2              0   \n",
       "2  1000001      F  Child          10             A          2              0   \n",
       "3  1000001      F  Child          10             A          2              0   \n",
       "4  1000002      M    Old          16             C          4              0   \n",
       "\n",
       "   Product1  Product2  Product3  Purchase  \n",
       "0         3        10        13      8370  \n",
       "1         1         6        14     15200  \n",
       "2        12        10        13      1422  \n",
       "3        12        14        13      1057  \n",
       "4         8        10        13      7969  "
      ]
     },
     "execution_count": 45,
     "metadata": {},
     "output_type": "execute_result"
    }
   ],
   "source": [
    "bfs.head()"
   ]
  },
  {
   "cell_type": "markdown",
   "id": "fcf123ed",
   "metadata": {},
   "source": [
    "##### We've cleaned the data. Now, we'll again give it a check."
   ]
  },
  {
   "cell_type": "code",
   "execution_count": 46,
   "id": "ab7f8c2f",
   "metadata": {},
   "outputs": [
    {
     "data": {
      "text/plain": [
       "UserID           0\n",
       "Gender           0\n",
       "Age              0\n",
       "Occupation       0\n",
       "City_Category    0\n",
       "City_Stay        0\n",
       "MaritalStatus    0\n",
       "Product1         0\n",
       "Product2         0\n",
       "Product3         0\n",
       "Purchase         0\n",
       "dtype: int64"
      ]
     },
     "execution_count": 46,
     "metadata": {},
     "output_type": "execute_result"
    }
   ],
   "source": [
    "bfs.isnull().sum()"
   ]
  },
  {
   "cell_type": "code",
   "execution_count": 47,
   "id": "5bece7b5",
   "metadata": {},
   "outputs": [
    {
     "data": {
      "image/png": "[encoded data removed]",
      "text/plain": [
       "<Figure size 432x288 with 2 Axes>"
      ]
     },
     "metadata": {
      "needs_background": "light"
     },
     "output_type": "display_data"
    }
   ],
   "source": [
    "sns.heatmap(bfs.isnull())\n",
    "plt.show()"
   ]
  },
  {
   "cell_type": "markdown",
   "id": "d13be785",
   "metadata": {},
   "source": [
    "The heat map shows that there is no null value present in data set."
   ]
  },
  {
   "cell_type": "markdown",
   "id": "4a0de032",
   "metadata": {},
   "source": [
    "* Our data now seems to be clean. So, we'll start will Data Visualization."
   ]
  },
  {
   "cell_type": "markdown",
   "id": "d2b7baf3",
   "metadata": {},
   "source": [
    "=> _Checking the feature of **Purchase** feature -_"
   ]
  },
  {
   "cell_type": "markdown",
   "id": "a45c124c",
   "metadata": {},
   "source": [
    "* We can use the code written below. But in this code we will not be able to adjust the size of the entire subplot. Hence, we'll prefer the other code.\n",
    "\n",
    "-> plt.subplot(2,2,1)\n",
    "-> sns.distplot(bfs['Purchase'], rug = True)\n",
    "-> plt.title('Distribution')\n",
    "\n",
    "-> plt.subplot(2,2,2, figsize=(12,8))\n",
    "-> sns.boxenplot(x=bfs['Purchase'], data=bfs, palette=\"rocket_r\")\n",
    "-> plt.title('Outliers')\n",
    "\n",
    "-> plt.subplot(2,2,3, figsize=(12,8))\n",
    "-> sns.violinplot(x=bfs['Purchase'], alpha=.7, palette=\"rocket_r\", data=bfs)\n",
    "\n",
    "-> plt.subplot(2,2,4, figsize=(12,8))\n",
    "-> sns.boxplot(x=bfs['Purchase'], y=bfs['Gender'], data=bfs, palette=\"rocket_r\")\n",
    "\n",
    "\n",
    "-> plt.tight_layout()\n",
    "-> plt.show()"
   ]
  },
  {
   "cell_type": "markdown",
   "id": "3d8667f3",
   "metadata": {},
   "source": [
    "* ###### Let's check for the outliers in the data. We will examine the purchase column for this."
   ]
  },
  {
   "cell_type": "markdown",
   "id": "9bfcaf5d",
   "metadata": {},
   "source": [
    "##### Detecting Outlier using Z-score"
   ]
  },
  {
   "cell_type": "markdown",
   "id": "4aa57855",
   "metadata": {},
   "source": [
    "Formula for z-score = (Observation - Mean) / Standard Deviation"
   ]
  },
  {
   "cell_type": "code",
   "execution_count": 48,
   "id": "9cdb922d",
   "metadata": {},
   "outputs": [
    {
     "name": "stdout",
     "output_type": "stream",
     "text": [
      "Upper Limit: 24333.164894421006\n",
      "Lower Limit: -5805.227468502755\n"
     ]
    }
   ],
   "source": [
    "# Find the limits\n",
    "\n",
    "upper_limit = bfs['Purchase'].mean() + 3*bfs['Purchase'].std()\n",
    "lower_limit = bfs['Purchase'].mean() - 3*bfs['Purchase'].std()\n",
    "\n",
    "print('Upper Limit:', upper_limit)\n",
    "print('Lower Limit:', lower_limit)"
   ]
  },
  {
   "cell_type": "code",
   "execution_count": 49,
   "id": "3c1117c1",
   "metadata": {},
   "outputs": [
    {
     "data": {
      "text/html": [
       "<div>\n",
       "<style scoped>\n",
       "    .dataframe tbody tr th:only-of-type {\n",
       "        vertical-align: middle;\n",
       "    }\n",
       "\n",
       "    .dataframe tbody tr th {\n",
       "        vertical-align: top;\n",
       "    }\n",
       "\n",
       "    .dataframe thead th {\n",
       "        text-align: right;\n",
       "    }\n",
       "</style>\n",
       "<table border=\"1\" class=\"dataframe\">\n",
       "  <thead>\n",
       "    <tr style=\"text-align: right;\">\n",
       "      <th></th>\n",
       "      <th>UserID</th>\n",
       "      <th>Gender</th>\n",
       "      <th>Age</th>\n",
       "      <th>Occupation</th>\n",
       "      <th>City_Category</th>\n",
       "      <th>City_Stay</th>\n",
       "      <th>MaritalStatus</th>\n",
       "      <th>Product1</th>\n",
       "      <th>Product2</th>\n",
       "      <th>Product3</th>\n",
       "      <th>Purchase</th>\n",
       "    </tr>\n",
       "  </thead>\n",
       "  <tbody>\n",
       "  </tbody>\n",
       "</table>\n",
       "</div>"
      ],
      "text/plain": [
       "Empty DataFrame\n",
       "Columns: [UserID, Gender, Age, Occupation, City_Category, City_Stay, MaritalStatus, Product1, Product2, Product3, Purchase]\n",
       "Index: []"
      ]
     },
     "execution_count": 49,
     "metadata": {},
     "output_type": "execute_result"
    }
   ],
   "source": [
    "# Find the Outliers\n",
    "\n",
    "bfs.loc[(bfs['Purchase'] > upper_limit) | (bfs['Purchase'] < lower_limit)]   # here | is used for 'OR'"
   ]
  },
  {
   "cell_type": "markdown",
   "id": "bfd615aa",
   "metadata": {},
   "source": [
    "* Z-Score method shows no outliers. Therefore, we'll confirm it using the Inter-Quartile Range Method"
   ]
  },
  {
   "cell_type": "markdown",
   "id": "954e427f",
   "metadata": {},
   "source": [
    "##### Detecting Outlier using Inter-Quartile Range (IQR)"
   ]
  },
  {
   "cell_type": "code",
   "execution_count": 50,
   "id": "70c3eb1c",
   "metadata": {},
   "outputs": [
    {
     "name": "stdout",
     "output_type": "stream",
     "text": [
      "Q1 :  5823.0\n",
      "Q3 :  12054.0\n",
      "IQR :  6231.0\n"
     ]
    }
   ],
   "source": [
    "Q1 = bfs['Purchase'].quantile(0.25)\n",
    "Q3 = bfs['Purchase'].quantile(0.75)\n",
    "IQR = Q3 - Q1\n",
    "\n",
    "print('Q1 : ', Q1)\n",
    "print('Q3 : ', Q3)\n",
    "print('IQR : ', IQR)"
   ]
  },
  {
   "cell_type": "code",
   "execution_count": 51,
   "id": "de4b541d",
   "metadata": {},
   "outputs": [
    {
     "name": "stdout",
     "output_type": "stream",
     "text": [
      "Upper Limit :  21400.5\n",
      "Lower Limit :  -3523.5\n"
     ]
    }
   ],
   "source": [
    "Upper_limit = Q3 + (1.5*IQR)\n",
    "Lower_limit = Q1 - (1.5*IQR)\n",
    "\n",
    "print('Upper Limit : ', Upper_limit)\n",
    "print('Lower Limit : ', Lower_limit)"
   ]
  },
  {
   "cell_type": "code",
   "execution_count": 52,
   "id": "74e7455d",
   "metadata": {},
   "outputs": [
    {
     "name": "stderr",
     "output_type": "stream",
     "text": [
      "C:\\Users\\Beena Pandey\\anaconda3\\lib\\site-packages\\seaborn\\_decorators.py:36: FutureWarning: Pass the following variable as a keyword arg: x. From version 0.12, the only valid positional argument will be `data`, and passing other arguments without an explicit keyword will result in an error or misinterpretation.\n",
      "  warnings.warn(\n"
     ]
    },
    {
     "data": {
      "text/plain": [
       "<AxesSubplot:xlabel='Purchase'>"
      ]
     },
     "execution_count": 52,
     "metadata": {},
     "output_type": "execute_result"
    },
    {
     "data": {
      "image/png": "[encoded data removed]",
      "text/plain": [
       "<Figure size 432x288 with 1 Axes>"
      ]
     },
     "metadata": {
      "needs_background": "light"
     },
     "output_type": "display_data"
    }
   ],
   "source": [
    "sns.boxplot(bfs['Purchase'])"
   ]
  },
  {
   "cell_type": "code",
   "execution_count": 53,
   "id": "03584477",
   "metadata": {},
   "outputs": [
    {
     "data": {
      "text/html": [
       "<div>\n",
       "<style scoped>\n",
       "    .dataframe tbody tr th:only-of-type {\n",
       "        vertical-align: middle;\n",
       "    }\n",
       "\n",
       "    .dataframe tbody tr th {\n",
       "        vertical-align: top;\n",
       "    }\n",
       "\n",
       "    .dataframe thead th {\n",
       "        text-align: right;\n",
       "    }\n",
       "</style>\n",
       "<table border=\"1\" class=\"dataframe\">\n",
       "  <thead>\n",
       "    <tr style=\"text-align: right;\">\n",
       "      <th></th>\n",
       "      <th>UserID</th>\n",
       "      <th>Gender</th>\n",
       "      <th>Age</th>\n",
       "      <th>Occupation</th>\n",
       "      <th>City_Category</th>\n",
       "      <th>City_Stay</th>\n",
       "      <th>MaritalStatus</th>\n",
       "      <th>Product1</th>\n",
       "      <th>Product2</th>\n",
       "      <th>Product3</th>\n",
       "      <th>Purchase</th>\n",
       "    </tr>\n",
       "  </thead>\n",
       "  <tbody>\n",
       "    <tr>\n",
       "      <th>343</th>\n",
       "      <td>1000058</td>\n",
       "      <td>M</td>\n",
       "      <td>Adult</td>\n",
       "      <td>2</td>\n",
       "      <td>B</td>\n",
       "      <td>3</td>\n",
       "      <td>0</td>\n",
       "      <td>10</td>\n",
       "      <td>16</td>\n",
       "      <td>13</td>\n",
       "      <td>23603</td>\n",
       "    </tr>\n",
       "    <tr>\n",
       "      <th>375</th>\n",
       "      <td>1000062</td>\n",
       "      <td>F</td>\n",
       "      <td>Adult</td>\n",
       "      <td>3</td>\n",
       "      <td>A</td>\n",
       "      <td>1</td>\n",
       "      <td>0</td>\n",
       "      <td>10</td>\n",
       "      <td>13</td>\n",
       "      <td>13</td>\n",
       "      <td>23792</td>\n",
       "    </tr>\n",
       "    <tr>\n",
       "      <th>652</th>\n",
       "      <td>1000126</td>\n",
       "      <td>M</td>\n",
       "      <td>Teenage</td>\n",
       "      <td>9</td>\n",
       "      <td>B</td>\n",
       "      <td>1</td>\n",
       "      <td>0</td>\n",
       "      <td>10</td>\n",
       "      <td>14</td>\n",
       "      <td>16</td>\n",
       "      <td>23233</td>\n",
       "    </tr>\n",
       "    <tr>\n",
       "      <th>736</th>\n",
       "      <td>1000139</td>\n",
       "      <td>F</td>\n",
       "      <td>Adult</td>\n",
       "      <td>20</td>\n",
       "      <td>C</td>\n",
       "      <td>2</td>\n",
       "      <td>0</td>\n",
       "      <td>10</td>\n",
       "      <td>15</td>\n",
       "      <td>16</td>\n",
       "      <td>23595</td>\n",
       "    </tr>\n",
       "    <tr>\n",
       "      <th>1041</th>\n",
       "      <td>1000175</td>\n",
       "      <td>F</td>\n",
       "      <td>Adult</td>\n",
       "      <td>2</td>\n",
       "      <td>B</td>\n",
       "      <td>1</td>\n",
       "      <td>0</td>\n",
       "      <td>10</td>\n",
       "      <td>15</td>\n",
       "      <td>13</td>\n",
       "      <td>23341</td>\n",
       "    </tr>\n",
       "    <tr>\n",
       "      <th>...</th>\n",
       "      <td>...</td>\n",
       "      <td>...</td>\n",
       "      <td>...</td>\n",
       "      <td>...</td>\n",
       "      <td>...</td>\n",
       "      <td>...</td>\n",
       "      <td>...</td>\n",
       "      <td>...</td>\n",
       "      <td>...</td>\n",
       "      <td>...</td>\n",
       "      <td>...</td>\n",
       "    </tr>\n",
       "    <tr>\n",
       "      <th>544488</th>\n",
       "      <td>1005815</td>\n",
       "      <td>M</td>\n",
       "      <td>Adult</td>\n",
       "      <td>20</td>\n",
       "      <td>B</td>\n",
       "      <td>1</td>\n",
       "      <td>0</td>\n",
       "      <td>10</td>\n",
       "      <td>13</td>\n",
       "      <td>16</td>\n",
       "      <td>23753</td>\n",
       "    </tr>\n",
       "    <tr>\n",
       "      <th>544704</th>\n",
       "      <td>1005847</td>\n",
       "      <td>F</td>\n",
       "      <td>Teenage</td>\n",
       "      <td>4</td>\n",
       "      <td>B</td>\n",
       "      <td>2</td>\n",
       "      <td>0</td>\n",
       "      <td>10</td>\n",
       "      <td>13</td>\n",
       "      <td>13</td>\n",
       "      <td>23724</td>\n",
       "    </tr>\n",
       "    <tr>\n",
       "      <th>544743</th>\n",
       "      <td>1005852</td>\n",
       "      <td>F</td>\n",
       "      <td>Adult</td>\n",
       "      <td>1</td>\n",
       "      <td>A</td>\n",
       "      <td>0</td>\n",
       "      <td>1</td>\n",
       "      <td>10</td>\n",
       "      <td>16</td>\n",
       "      <td>13</td>\n",
       "      <td>23529</td>\n",
       "    </tr>\n",
       "    <tr>\n",
       "      <th>545663</th>\n",
       "      <td>1006002</td>\n",
       "      <td>M</td>\n",
       "      <td>Old</td>\n",
       "      <td>0</td>\n",
       "      <td>C</td>\n",
       "      <td>1</td>\n",
       "      <td>1</td>\n",
       "      <td>10</td>\n",
       "      <td>13</td>\n",
       "      <td>16</td>\n",
       "      <td>23663</td>\n",
       "    </tr>\n",
       "    <tr>\n",
       "      <th>545787</th>\n",
       "      <td>1006018</td>\n",
       "      <td>M</td>\n",
       "      <td>Adult</td>\n",
       "      <td>1</td>\n",
       "      <td>C</td>\n",
       "      <td>3</td>\n",
       "      <td>0</td>\n",
       "      <td>10</td>\n",
       "      <td>15</td>\n",
       "      <td>13</td>\n",
       "      <td>23496</td>\n",
       "    </tr>\n",
       "  </tbody>\n",
       "</table>\n",
       "<p>2677 rows × 11 columns</p>\n",
       "</div>"
      ],
      "text/plain": [
       "         UserID Gender      Age  Occupation City_Category  City_Stay  \\\n",
       "343     1000058      M    Adult           2             B          3   \n",
       "375     1000062      F    Adult           3             A          1   \n",
       "652     1000126      M  Teenage           9             B          1   \n",
       "736     1000139      F    Adult          20             C          2   \n",
       "1041    1000175      F    Adult           2             B          1   \n",
       "...         ...    ...      ...         ...           ...        ...   \n",
       "544488  1005815      M    Adult          20             B          1   \n",
       "544704  1005847      F  Teenage           4             B          2   \n",
       "544743  1005852      F    Adult           1             A          0   \n",
       "545663  1006002      M      Old           0             C          1   \n",
       "545787  1006018      M    Adult           1             C          3   \n",
       "\n",
       "        MaritalStatus  Product1  Product2  Product3  Purchase  \n",
       "343                 0        10        16        13     23603  \n",
       "375                 0        10        13        13     23792  \n",
       "652                 0        10        14        16     23233  \n",
       "736                 0        10        15        16     23595  \n",
       "1041                0        10        15        13     23341  \n",
       "...               ...       ...       ...       ...       ...  \n",
       "544488              0        10        13        16     23753  \n",
       "544704              0        10        13        13     23724  \n",
       "544743              1        10        16        13     23529  \n",
       "545663              1        10        13        16     23663  \n",
       "545787              0        10        15        13     23496  \n",
       "\n",
       "[2677 rows x 11 columns]"
      ]
     },
     "execution_count": 53,
     "metadata": {},
     "output_type": "execute_result"
    }
   ],
   "source": [
    "# Find the Outliers\n",
    "\n",
    "bfs.loc[(bfs['Purchase'] > Upper_limit) | (bfs['Purchase'] < Lower_limit)]   # here | is used for 'OR'"
   ]
  },
  {
   "cell_type": "markdown",
   "id": "a58e9a65",
   "metadata": {},
   "source": [
    "* This clearly shows that our data has some outliers present in it. Now we have two options in front of us:\n",
    "    1. Trimming - delete the outlier data\n",
    "    2. Capping - change the outlier values to upper or lower limit values"
   ]
  },
  {
   "cell_type": "markdown",
   "id": "5a302fe5",
   "metadata": {},
   "source": [
    "* Our dataset is not a gigantic data set. Therefroe, we will not trim our data instead we'll go with capping "
   ]
  },
  {
   "cell_type": "code",
   "execution_count": 54,
   "id": "a516559e",
   "metadata": {},
   "outputs": [],
   "source": [
    "# Capping - change the outlier values to upper or lower limit values\n",
    "\n",
    "Bfs = bfs.copy()\n",
    "\n",
    "Bfs.loc[(Bfs['Purchase'] > Upper_limit), 'Purchase'] = Upper_limit\n",
    "Bfs.loc[(Bfs['Purchase'] < Lower_limit), 'Purchase'] = Lower_limit"
   ]
  },
  {
   "cell_type": "markdown",
   "id": "f80404e7",
   "metadata": {},
   "source": [
    "* In this code we're changing the values that are greater than the Upper_limit to Upper_limit and similarly values which are less than the Lower_limit are replaced by the Lower_limit value "
   ]
  },
  {
   "cell_type": "code",
   "execution_count": 55,
   "id": "85658d6a",
   "metadata": {},
   "outputs": [
    {
     "name": "stderr",
     "output_type": "stream",
     "text": [
      "C:\\Users\\Beena Pandey\\anaconda3\\lib\\site-packages\\seaborn\\_decorators.py:36: FutureWarning: Pass the following variable as a keyword arg: x. From version 0.12, the only valid positional argument will be `data`, and passing other arguments without an explicit keyword will result in an error or misinterpretation.\n",
      "  warnings.warn(\n"
     ]
    },
    {
     "data": {
      "text/plain": [
       "<AxesSubplot:xlabel='Purchase'>"
      ]
     },
     "execution_count": 55,
     "metadata": {},
     "output_type": "execute_result"
    },
    {
     "data": {
      "image/png": "[encoded data removed]",
      "text/plain": [
       "<Figure size 432x288 with 1 Axes>"
      ]
     },
     "metadata": {
      "needs_background": "light"
     },
     "output_type": "display_data"
    }
   ],
   "source": [
    "sns.boxplot(Bfs['Purchase'])"
   ]
  },
  {
   "cell_type": "markdown",
   "id": "a73023c7",
   "metadata": {},
   "source": [
    "* Now, are data is free of any outliers."
   ]
  },
  {
   "cell_type": "code",
   "execution_count": 56,
   "id": "04cdfb18",
   "metadata": {},
   "outputs": [
    {
     "data": {
      "text/html": [
       "<div>\n",
       "<style scoped>\n",
       "    .dataframe tbody tr th:only-of-type {\n",
       "        vertical-align: middle;\n",
       "    }\n",
       "\n",
       "    .dataframe tbody tr th {\n",
       "        vertical-align: top;\n",
       "    }\n",
       "\n",
       "    .dataframe thead th {\n",
       "        text-align: right;\n",
       "    }\n",
       "</style>\n",
       "<table border=\"1\" class=\"dataframe\">\n",
       "  <thead>\n",
       "    <tr style=\"text-align: right;\">\n",
       "      <th></th>\n",
       "      <th>UserID</th>\n",
       "      <th>Occupation</th>\n",
       "      <th>City_Stay</th>\n",
       "      <th>MaritalStatus</th>\n",
       "      <th>Product1</th>\n",
       "      <th>Product2</th>\n",
       "      <th>Product3</th>\n",
       "      <th>Purchase</th>\n",
       "    </tr>\n",
       "  </thead>\n",
       "  <tbody>\n",
       "    <tr>\n",
       "      <th>count</th>\n",
       "      <td>5.500680e+05</td>\n",
       "      <td>550068.000000</td>\n",
       "      <td>550068.000000</td>\n",
       "      <td>550068.000000</td>\n",
       "      <td>550068.000000</td>\n",
       "      <td>550068.000000</td>\n",
       "      <td>550068.000000</td>\n",
       "      <td>550068.000000</td>\n",
       "    </tr>\n",
       "    <tr>\n",
       "      <th>mean</th>\n",
       "      <td>1.003029e+06</td>\n",
       "      <td>8.076707</td>\n",
       "      <td>1.858418</td>\n",
       "      <td>0.409653</td>\n",
       "      <td>5.404270</td>\n",
       "      <td>9.892101</td>\n",
       "      <td>12.899387</td>\n",
       "      <td>9255.024296</td>\n",
       "    </tr>\n",
       "    <tr>\n",
       "      <th>std</th>\n",
       "      <td>1.727592e+03</td>\n",
       "      <td>6.522660</td>\n",
       "      <td>1.289443</td>\n",
       "      <td>0.491770</td>\n",
       "      <td>3.936211</td>\n",
       "      <td>4.208490</td>\n",
       "      <td>2.276942</td>\n",
       "      <td>4999.516285</td>\n",
       "    </tr>\n",
       "    <tr>\n",
       "      <th>min</th>\n",
       "      <td>1.000001e+06</td>\n",
       "      <td>0.000000</td>\n",
       "      <td>0.000000</td>\n",
       "      <td>0.000000</td>\n",
       "      <td>1.000000</td>\n",
       "      <td>2.000000</td>\n",
       "      <td>3.000000</td>\n",
       "      <td>12.000000</td>\n",
       "    </tr>\n",
       "    <tr>\n",
       "      <th>25%</th>\n",
       "      <td>1.001516e+06</td>\n",
       "      <td>2.000000</td>\n",
       "      <td>1.000000</td>\n",
       "      <td>0.000000</td>\n",
       "      <td>1.000000</td>\n",
       "      <td>8.000000</td>\n",
       "      <td>13.000000</td>\n",
       "      <td>5823.000000</td>\n",
       "    </tr>\n",
       "    <tr>\n",
       "      <th>50%</th>\n",
       "      <td>1.003077e+06</td>\n",
       "      <td>7.000000</td>\n",
       "      <td>2.000000</td>\n",
       "      <td>0.000000</td>\n",
       "      <td>5.000000</td>\n",
       "      <td>10.000000</td>\n",
       "      <td>13.000000</td>\n",
       "      <td>8047.000000</td>\n",
       "    </tr>\n",
       "    <tr>\n",
       "      <th>75%</th>\n",
       "      <td>1.004478e+06</td>\n",
       "      <td>14.000000</td>\n",
       "      <td>3.000000</td>\n",
       "      <td>1.000000</td>\n",
       "      <td>8.000000</td>\n",
       "      <td>14.000000</td>\n",
       "      <td>13.000000</td>\n",
       "      <td>12054.000000</td>\n",
       "    </tr>\n",
       "    <tr>\n",
       "      <th>max</th>\n",
       "      <td>1.006040e+06</td>\n",
       "      <td>20.000000</td>\n",
       "      <td>4.000000</td>\n",
       "      <td>1.000000</td>\n",
       "      <td>20.000000</td>\n",
       "      <td>18.000000</td>\n",
       "      <td>18.000000</td>\n",
       "      <td>21400.500000</td>\n",
       "    </tr>\n",
       "  </tbody>\n",
       "</table>\n",
       "</div>"
      ],
      "text/plain": [
       "             UserID     Occupation      City_Stay  MaritalStatus  \\\n",
       "count  5.500680e+05  550068.000000  550068.000000  550068.000000   \n",
       "mean   1.003029e+06       8.076707       1.858418       0.409653   \n",
       "std    1.727592e+03       6.522660       1.289443       0.491770   \n",
       "min    1.000001e+06       0.000000       0.000000       0.000000   \n",
       "25%    1.001516e+06       2.000000       1.000000       0.000000   \n",
       "50%    1.003077e+06       7.000000       2.000000       0.000000   \n",
       "75%    1.004478e+06      14.000000       3.000000       1.000000   \n",
       "max    1.006040e+06      20.000000       4.000000       1.000000   \n",
       "\n",
       "            Product1       Product2       Product3       Purchase  \n",
       "count  550068.000000  550068.000000  550068.000000  550068.000000  \n",
       "mean        5.404270       9.892101      12.899387    9255.024296  \n",
       "std         3.936211       4.208490       2.276942    4999.516285  \n",
       "min         1.000000       2.000000       3.000000      12.000000  \n",
       "25%         1.000000       8.000000      13.000000    5823.000000  \n",
       "50%         5.000000      10.000000      13.000000    8047.000000  \n",
       "75%         8.000000      14.000000      13.000000   12054.000000  \n",
       "max        20.000000      18.000000      18.000000   21400.500000  "
      ]
     },
     "execution_count": 56,
     "metadata": {},
     "output_type": "execute_result"
    }
   ],
   "source": [
    "Bfs.describe()"
   ]
  },
  {
   "cell_type": "code",
   "execution_count": 57,
   "id": "745d3be0",
   "metadata": {},
   "outputs": [
    {
     "data": {
      "text/html": [
       "<div>\n",
       "<style scoped>\n",
       "    .dataframe tbody tr th:only-of-type {\n",
       "        vertical-align: middle;\n",
       "    }\n",
       "\n",
       "    .dataframe tbody tr th {\n",
       "        vertical-align: top;\n",
       "    }\n",
       "\n",
       "    .dataframe thead th {\n",
       "        text-align: right;\n",
       "    }\n",
       "</style>\n",
       "<table border=\"1\" class=\"dataframe\">\n",
       "  <thead>\n",
       "    <tr style=\"text-align: right;\">\n",
       "      <th>Gender</th>\n",
       "      <th>F</th>\n",
       "      <th>M</th>\n",
       "    </tr>\n",
       "    <tr>\n",
       "      <th>Age</th>\n",
       "      <th></th>\n",
       "      <th></th>\n",
       "    </tr>\n",
       "  </thead>\n",
       "  <tbody>\n",
       "    <tr>\n",
       "      <th>Adult</th>\n",
       "      <td>8805.594226</td>\n",
       "      <td>9407.757830</td>\n",
       "    </tr>\n",
       "    <tr>\n",
       "      <th>Child</th>\n",
       "      <td>8331.026461</td>\n",
       "      <td>9227.157551</td>\n",
       "    </tr>\n",
       "    <tr>\n",
       "      <th>Old</th>\n",
       "      <td>9013.334212</td>\n",
       "      <td>9592.524574</td>\n",
       "    </tr>\n",
       "    <tr>\n",
       "      <th>Teenage</th>\n",
       "      <td>8339.706026</td>\n",
       "      <td>9434.812493</td>\n",
       "    </tr>\n",
       "  </tbody>\n",
       "</table>\n",
       "</div>"
      ],
      "text/plain": [
       "Gender             F            M\n",
       "Age                              \n",
       "Adult    8805.594226  9407.757830\n",
       "Child    8331.026461  9227.157551\n",
       "Old      9013.334212  9592.524574\n",
       "Teenage  8339.706026  9434.812493"
      ]
     },
     "execution_count": 57,
     "metadata": {},
     "output_type": "execute_result"
    }
   ],
   "source": [
    "# Mean of Purchase for each Gender according to Age\n",
    "\n",
    "pd.pivot_table(data = Bfs, index = 'Age', values = 'Purchase', columns = ['Gender'], aggfunc = 'mean')"
   ]
  },
  {
   "cell_type": "code",
   "execution_count": 58,
   "id": "1b6c90ce",
   "metadata": {},
   "outputs": [
    {
     "data": {
      "text/html": [
       "<div>\n",
       "<style scoped>\n",
       "    .dataframe tbody tr th:only-of-type {\n",
       "        vertical-align: middle;\n",
       "    }\n",
       "\n",
       "    .dataframe tbody tr th {\n",
       "        vertical-align: top;\n",
       "    }\n",
       "\n",
       "    .dataframe thead th {\n",
       "        text-align: right;\n",
       "    }\n",
       "</style>\n",
       "<table border=\"1\" class=\"dataframe\">\n",
       "  <thead>\n",
       "    <tr style=\"text-align: right;\">\n",
       "      <th>MaritalStatus</th>\n",
       "      <th>0</th>\n",
       "      <th>1</th>\n",
       "    </tr>\n",
       "    <tr>\n",
       "      <th>Gender</th>\n",
       "      <th></th>\n",
       "      <th></th>\n",
       "    </tr>\n",
       "  </thead>\n",
       "  <tbody>\n",
       "    <tr>\n",
       "      <th>F</th>\n",
       "      <td>8672.561272</td>\n",
       "      <td>8800.522803</td>\n",
       "    </tr>\n",
       "    <tr>\n",
       "      <th>M</th>\n",
       "      <td>9445.012860</td>\n",
       "      <td>9404.068016</td>\n",
       "    </tr>\n",
       "  </tbody>\n",
       "</table>\n",
       "</div>"
      ],
      "text/plain": [
       "MaritalStatus            0            1\n",
       "Gender                                 \n",
       "F              8672.561272  8800.522803\n",
       "M              9445.012860  9404.068016"
      ]
     },
     "execution_count": 58,
     "metadata": {},
     "output_type": "execute_result"
    }
   ],
   "source": [
    "# Sum of Purchase for each Gender according to Marital Status\n",
    "\n",
    "pd.pivot_table(data = Bfs, index = 'Gender', values = 'Purchase', columns = ['MaritalStatus'], aggfunc = 'mean')"
   ]
  },
  {
   "cell_type": "code",
   "execution_count": 59,
   "id": "0d99e0ff",
   "metadata": {},
   "outputs": [
    {
     "data": {
      "text/html": [
       "<div>\n",
       "<style scoped>\n",
       "    .dataframe tbody tr th:only-of-type {\n",
       "        vertical-align: middle;\n",
       "    }\n",
       "\n",
       "    .dataframe tbody tr th {\n",
       "        vertical-align: top;\n",
       "    }\n",
       "\n",
       "    .dataframe thead th {\n",
       "        text-align: right;\n",
       "    }\n",
       "</style>\n",
       "<table border=\"1\" class=\"dataframe\">\n",
       "  <thead>\n",
       "    <tr style=\"text-align: right;\">\n",
       "      <th>Gender</th>\n",
       "      <th>F</th>\n",
       "      <th>M</th>\n",
       "    </tr>\n",
       "    <tr>\n",
       "      <th>City_Category</th>\n",
       "      <th></th>\n",
       "      <th></th>\n",
       "    </tr>\n",
       "  </thead>\n",
       "  <tbody>\n",
       "    <tr>\n",
       "      <th>A</th>\n",
       "      <td>8571.748684</td>\n",
       "      <td>9009.245706</td>\n",
       "    </tr>\n",
       "    <tr>\n",
       "      <th>B</th>\n",
       "      <td>8533.189581</td>\n",
       "      <td>9346.166957</td>\n",
       "    </tr>\n",
       "    <tr>\n",
       "      <th>C</th>\n",
       "      <td>9120.381136</td>\n",
       "      <td>9903.298803</td>\n",
       "    </tr>\n",
       "  </tbody>\n",
       "</table>\n",
       "</div>"
      ],
      "text/plain": [
       "Gender                   F            M\n",
       "City_Category                          \n",
       "A              8571.748684  9009.245706\n",
       "B              8533.189581  9346.166957\n",
       "C              9120.381136  9903.298803"
      ]
     },
     "execution_count": 59,
     "metadata": {},
     "output_type": "execute_result"
    }
   ],
   "source": [
    "# Mean of Purchase for each Gender according to City\n",
    "\n",
    "pd.pivot_table(data = Bfs, index = 'City_Category', values = 'Purchase', columns = ['Gender'], aggfunc = 'mean')"
   ]
  },
  {
   "cell_type": "code",
   "execution_count": 60,
   "id": "b6ce2116",
   "metadata": {},
   "outputs": [
    {
     "data": {
      "text/html": [
       "<div>\n",
       "<style scoped>\n",
       "    .dataframe tbody tr th:only-of-type {\n",
       "        vertical-align: middle;\n",
       "    }\n",
       "\n",
       "    .dataframe tbody tr th {\n",
       "        vertical-align: top;\n",
       "    }\n",
       "\n",
       "    .dataframe thead th {\n",
       "        text-align: right;\n",
       "    }\n",
       "</style>\n",
       "<table border=\"1\" class=\"dataframe\">\n",
       "  <thead>\n",
       "    <tr style=\"text-align: right;\">\n",
       "      <th>MaritalStatus</th>\n",
       "      <th>0</th>\n",
       "      <th>1</th>\n",
       "    </tr>\n",
       "    <tr>\n",
       "      <th>Age</th>\n",
       "      <th></th>\n",
       "      <th></th>\n",
       "    </tr>\n",
       "  </thead>\n",
       "  <tbody>\n",
       "    <tr>\n",
       "      <th>Adult</th>\n",
       "      <td>9272.994095</td>\n",
       "      <td>9246.647967</td>\n",
       "    </tr>\n",
       "    <tr>\n",
       "      <th>Child</th>\n",
       "      <td>8925.539597</td>\n",
       "      <td>NaN</td>\n",
       "    </tr>\n",
       "    <tr>\n",
       "      <th>Old</th>\n",
       "      <td>9543.838532</td>\n",
       "      <td>9404.480246</td>\n",
       "    </tr>\n",
       "    <tr>\n",
       "      <th>Teenage</th>\n",
       "      <td>9211.257072</td>\n",
       "      <td>8989.115150</td>\n",
       "    </tr>\n",
       "  </tbody>\n",
       "</table>\n",
       "</div>"
      ],
      "text/plain": [
       "MaritalStatus            0            1\n",
       "Age                                    \n",
       "Adult          9272.994095  9246.647967\n",
       "Child          8925.539597          NaN\n",
       "Old            9543.838532  9404.480246\n",
       "Teenage        9211.257072  8989.115150"
      ]
     },
     "execution_count": 60,
     "metadata": {},
     "output_type": "execute_result"
    }
   ],
   "source": [
    "# Sum of Purchase for each Age according to Marital Status\n",
    "\n",
    "pd.pivot_table(data = Bfs, index = 'Age', values = 'Purchase', columns = ['MaritalStatus'], aggfunc = 'mean')"
   ]
  },
  {
   "cell_type": "code",
   "execution_count": 61,
   "id": "a0e14690",
   "metadata": {},
   "outputs": [
    {
     "data": {
      "text/html": [
       "<div>\n",
       "<style scoped>\n",
       "    .dataframe tbody tr th:only-of-type {\n",
       "        vertical-align: middle;\n",
       "    }\n",
       "\n",
       "    .dataframe tbody tr th {\n",
       "        vertical-align: top;\n",
       "    }\n",
       "\n",
       "    .dataframe thead th {\n",
       "        text-align: right;\n",
       "    }\n",
       "</style>\n",
       "<table border=\"1\" class=\"dataframe\">\n",
       "  <thead>\n",
       "    <tr style=\"text-align: right;\">\n",
       "      <th>City_Category</th>\n",
       "      <th>A</th>\n",
       "      <th>B</th>\n",
       "      <th>C</th>\n",
       "    </tr>\n",
       "    <tr>\n",
       "      <th>Age</th>\n",
       "      <th></th>\n",
       "      <th></th>\n",
       "      <th></th>\n",
       "    </tr>\n",
       "  </thead>\n",
       "  <tbody>\n",
       "    <tr>\n",
       "      <th>Adult</th>\n",
       "      <td>8910.513133</td>\n",
       "      <td>9141.429202</td>\n",
       "      <td>9791.260539</td>\n",
       "    </tr>\n",
       "    <tr>\n",
       "      <th>Child</th>\n",
       "      <td>8601.165291</td>\n",
       "      <td>8907.227047</td>\n",
       "      <td>9055.363681</td>\n",
       "    </tr>\n",
       "    <tr>\n",
       "      <th>Old</th>\n",
       "      <td>9117.297198</td>\n",
       "      <td>9429.827555</td>\n",
       "      <td>9579.696099</td>\n",
       "    </tr>\n",
       "    <tr>\n",
       "      <th>Teenage</th>\n",
       "      <td>8828.847885</td>\n",
       "      <td>9026.061704</td>\n",
       "      <td>9690.792783</td>\n",
       "    </tr>\n",
       "  </tbody>\n",
       "</table>\n",
       "</div>"
      ],
      "text/plain": [
       "City_Category            A            B            C\n",
       "Age                                                 \n",
       "Adult          8910.513133  9141.429202  9791.260539\n",
       "Child          8601.165291  8907.227047  9055.363681\n",
       "Old            9117.297198  9429.827555  9579.696099\n",
       "Teenage        8828.847885  9026.061704  9690.792783"
      ]
     },
     "execution_count": 61,
     "metadata": {},
     "output_type": "execute_result"
    }
   ],
   "source": [
    "# Mean of Purchase for each Gender according to City\n",
    "\n",
    "pd.pivot_table(data = Bfs, index = 'Age', values = 'Purchase', columns = ['City_Category'], aggfunc = 'mean')"
   ]
  },
  {
   "cell_type": "code",
   "execution_count": 99,
   "id": "9567832f",
   "metadata": {},
   "outputs": [
    {
     "data": {
      "text/html": [
       "<div>\n",
       "<style scoped>\n",
       "    .dataframe tbody tr th:only-of-type {\n",
       "        vertical-align: middle;\n",
       "    }\n",
       "\n",
       "    .dataframe tbody tr th {\n",
       "        vertical-align: top;\n",
       "    }\n",
       "\n",
       "    .dataframe thead tr th {\n",
       "        text-align: left;\n",
       "    }\n",
       "\n",
       "    .dataframe thead tr:last-of-type th {\n",
       "        text-align: right;\n",
       "    }\n",
       "</style>\n",
       "<table border=\"1\" class=\"dataframe\">\n",
       "  <thead>\n",
       "    <tr>\n",
       "      <th></th>\n",
       "      <th>City_Category</th>\n",
       "      <th colspan=\"5\" halign=\"left\">A</th>\n",
       "      <th colspan=\"5\" halign=\"left\">B</th>\n",
       "      <th colspan=\"5\" halign=\"left\">C</th>\n",
       "    </tr>\n",
       "    <tr>\n",
       "      <th></th>\n",
       "      <th>City_Stay</th>\n",
       "      <th>0</th>\n",
       "      <th>1</th>\n",
       "      <th>2</th>\n",
       "      <th>3</th>\n",
       "      <th>4</th>\n",
       "      <th>0</th>\n",
       "      <th>1</th>\n",
       "      <th>2</th>\n",
       "      <th>3</th>\n",
       "      <th>4</th>\n",
       "      <th>0</th>\n",
       "      <th>1</th>\n",
       "      <th>2</th>\n",
       "      <th>3</th>\n",
       "      <th>4</th>\n",
       "    </tr>\n",
       "    <tr>\n",
       "      <th>Age</th>\n",
       "      <th>Gender</th>\n",
       "      <th></th>\n",
       "      <th></th>\n",
       "      <th></th>\n",
       "      <th></th>\n",
       "      <th></th>\n",
       "      <th></th>\n",
       "      <th></th>\n",
       "      <th></th>\n",
       "      <th></th>\n",
       "      <th></th>\n",
       "      <th></th>\n",
       "      <th></th>\n",
       "      <th></th>\n",
       "      <th></th>\n",
       "      <th></th>\n",
       "    </tr>\n",
       "  </thead>\n",
       "  <tbody>\n",
       "    <tr>\n",
       "      <th rowspan=\"2\" valign=\"top\">Adult</th>\n",
       "      <th>F</th>\n",
       "      <td>8928.956562</td>\n",
       "      <td>8669.450531</td>\n",
       "      <td>8480.478859</td>\n",
       "      <td>8729.622760</td>\n",
       "      <td>8704.778140</td>\n",
       "      <td>8591.841377</td>\n",
       "      <td>8621.475364</td>\n",
       "      <td>8630.307600</td>\n",
       "      <td>8624.457332</td>\n",
       "      <td>8642.953596</td>\n",
       "      <td>8989.235225</td>\n",
       "      <td>9239.628000</td>\n",
       "      <td>9164.204042</td>\n",
       "      <td>9016.187485</td>\n",
       "      <td>9344.642013</td>\n",
       "    </tr>\n",
       "    <tr>\n",
       "      <th>M</th>\n",
       "      <td>9167.410452</td>\n",
       "      <td>8833.293138</td>\n",
       "      <td>9047.609402</td>\n",
       "      <td>9099.840581</td>\n",
       "      <td>8859.911209</td>\n",
       "      <td>9174.758386</td>\n",
       "      <td>9299.972453</td>\n",
       "      <td>9350.676253</td>\n",
       "      <td>9258.245912</td>\n",
       "      <td>9459.216468</td>\n",
       "      <td>9910.253510</td>\n",
       "      <td>9981.249065</td>\n",
       "      <td>10079.969997</td>\n",
       "      <td>9988.421811</td>\n",
       "      <td>9954.284012</td>\n",
       "    </tr>\n",
       "    <tr>\n",
       "      <th rowspan=\"2\" valign=\"top\">Child</th>\n",
       "      <th>F</th>\n",
       "      <td>5631.365714</td>\n",
       "      <td>7984.401198</td>\n",
       "      <td>7951.549724</td>\n",
       "      <td>8214.097754</td>\n",
       "      <td>NaN</td>\n",
       "      <td>9818.735023</td>\n",
       "      <td>8835.022282</td>\n",
       "      <td>8696.612226</td>\n",
       "      <td>10200.467391</td>\n",
       "      <td>5581.950495</td>\n",
       "      <td>9101.980198</td>\n",
       "      <td>8217.020057</td>\n",
       "      <td>7540.480583</td>\n",
       "      <td>8844.476868</td>\n",
       "      <td>9204.871345</td>\n",
       "    </tr>\n",
       "    <tr>\n",
       "      <th>M</th>\n",
       "      <td>9702.305732</td>\n",
       "      <td>8753.769634</td>\n",
       "      <td>10518.326291</td>\n",
       "      <td>10041.094203</td>\n",
       "      <td>NaN</td>\n",
       "      <td>10106.606218</td>\n",
       "      <td>9575.832160</td>\n",
       "      <td>8395.221012</td>\n",
       "      <td>8836.115732</td>\n",
       "      <td>8024.922249</td>\n",
       "      <td>9217.713734</td>\n",
       "      <td>9481.369850</td>\n",
       "      <td>9125.735461</td>\n",
       "      <td>9703.215630</td>\n",
       "      <td>9266.539501</td>\n",
       "    </tr>\n",
       "    <tr>\n",
       "      <th rowspan=\"2\" valign=\"top\">Old</th>\n",
       "      <th>F</th>\n",
       "      <td>9147.204420</td>\n",
       "      <td>8407.219494</td>\n",
       "      <td>9122.068122</td>\n",
       "      <td>8791.981527</td>\n",
       "      <td>8330.102362</td>\n",
       "      <td>8538.679487</td>\n",
       "      <td>9006.894863</td>\n",
       "      <td>9189.647759</td>\n",
       "      <td>8805.358002</td>\n",
       "      <td>8319.149718</td>\n",
       "      <td>9317.651222</td>\n",
       "      <td>8988.150500</td>\n",
       "      <td>9373.281116</td>\n",
       "      <td>9517.299839</td>\n",
       "      <td>9112.294996</td>\n",
       "    </tr>\n",
       "    <tr>\n",
       "      <th>M</th>\n",
       "      <td>8831.406907</td>\n",
       "      <td>9698.179165</td>\n",
       "      <td>8856.176563</td>\n",
       "      <td>9885.327391</td>\n",
       "      <td>8721.388959</td>\n",
       "      <td>8886.944836</td>\n",
       "      <td>9734.992895</td>\n",
       "      <td>9177.148708</td>\n",
       "      <td>10070.046447</td>\n",
       "      <td>9746.228868</td>\n",
       "      <td>10077.007862</td>\n",
       "      <td>9639.302154</td>\n",
       "      <td>9693.004234</td>\n",
       "      <td>9729.384009</td>\n",
       "      <td>9722.606599</td>\n",
       "    </tr>\n",
       "    <tr>\n",
       "      <th rowspan=\"2\" valign=\"top\">Teenage</th>\n",
       "      <th>F</th>\n",
       "      <td>7491.834646</td>\n",
       "      <td>9059.285279</td>\n",
       "      <td>8491.219700</td>\n",
       "      <td>7095.933099</td>\n",
       "      <td>8275.856239</td>\n",
       "      <td>7672.517878</td>\n",
       "      <td>7869.792283</td>\n",
       "      <td>8184.931947</td>\n",
       "      <td>8580.095147</td>\n",
       "      <td>8103.504535</td>\n",
       "      <td>9108.621977</td>\n",
       "      <td>9094.172036</td>\n",
       "      <td>9147.061388</td>\n",
       "      <td>9088.724792</td>\n",
       "      <td>8928.303832</td>\n",
       "    </tr>\n",
       "    <tr>\n",
       "      <th>M</th>\n",
       "      <td>8864.500248</td>\n",
       "      <td>9018.655443</td>\n",
       "      <td>9453.710912</td>\n",
       "      <td>8972.549029</td>\n",
       "      <td>8958.103741</td>\n",
       "      <td>8937.823259</td>\n",
       "      <td>9578.887719</td>\n",
       "      <td>9642.015875</td>\n",
       "      <td>9580.449383</td>\n",
       "      <td>9096.899831</td>\n",
       "      <td>10267.125000</td>\n",
       "      <td>9515.738238</td>\n",
       "      <td>10028.425393</td>\n",
       "      <td>10049.797459</td>\n",
       "      <td>9878.774395</td>\n",
       "    </tr>\n",
       "  </tbody>\n",
       "</table>\n",
       "</div>"
      ],
      "text/plain": [
       "City_Category             A                                           \\\n",
       "City_Stay                 0            1             2             3   \n",
       "Age     Gender                                                         \n",
       "Adult   F       8928.956562  8669.450531   8480.478859   8729.622760   \n",
       "        M       9167.410452  8833.293138   9047.609402   9099.840581   \n",
       "Child   F       5631.365714  7984.401198   7951.549724   8214.097754   \n",
       "        M       9702.305732  8753.769634  10518.326291  10041.094203   \n",
       "Old     F       9147.204420  8407.219494   9122.068122   8791.981527   \n",
       "        M       8831.406907  9698.179165   8856.176563   9885.327391   \n",
       "Teenage F       7491.834646  9059.285279   8491.219700   7095.933099   \n",
       "        M       8864.500248  9018.655443   9453.710912   8972.549029   \n",
       "\n",
       "City_Category                           B                            \\\n",
       "City_Stay                 4             0            1            2   \n",
       "Age     Gender                                                        \n",
       "Adult   F       8704.778140   8591.841377  8621.475364  8630.307600   \n",
       "        M       8859.911209   9174.758386  9299.972453  9350.676253   \n",
       "Child   F               NaN   9818.735023  8835.022282  8696.612226   \n",
       "        M               NaN  10106.606218  9575.832160  8395.221012   \n",
       "Old     F       8330.102362   8538.679487  9006.894863  9189.647759   \n",
       "        M       8721.388959   8886.944836  9734.992895  9177.148708   \n",
       "Teenage F       8275.856239   7672.517878  7869.792283  8184.931947   \n",
       "        M       8958.103741   8937.823259  9578.887719  9642.015875   \n",
       "\n",
       "City_Category                                         C               \\\n",
       "City_Stay                  3            4             0            1   \n",
       "Age     Gender                                                         \n",
       "Adult   F        8624.457332  8642.953596   8989.235225  9239.628000   \n",
       "        M        9258.245912  9459.216468   9910.253510  9981.249065   \n",
       "Child   F       10200.467391  5581.950495   9101.980198  8217.020057   \n",
       "        M        8836.115732  8024.922249   9217.713734  9481.369850   \n",
       "Old     F        8805.358002  8319.149718   9317.651222  8988.150500   \n",
       "        M       10070.046447  9746.228868  10077.007862  9639.302154   \n",
       "Teenage F        8580.095147  8103.504535   9108.621977  9094.172036   \n",
       "        M        9580.449383  9096.899831  10267.125000  9515.738238   \n",
       "\n",
       "City_Category                                            \n",
       "City_Stay                  2             3            4  \n",
       "Age     Gender                                           \n",
       "Adult   F        9164.204042   9016.187485  9344.642013  \n",
       "        M       10079.969997   9988.421811  9954.284012  \n",
       "Child   F        7540.480583   8844.476868  9204.871345  \n",
       "        M        9125.735461   9703.215630  9266.539501  \n",
       "Old     F        9373.281116   9517.299839  9112.294996  \n",
       "        M        9693.004234   9729.384009  9722.606599  \n",
       "Teenage F        9147.061388   9088.724792  8928.303832  \n",
       "        M       10028.425393  10049.797459  9878.774395  "
      ]
     },
     "execution_count": 99,
     "metadata": {},
     "output_type": "execute_result"
    }
   ],
   "source": [
    "# Mean of Purchase on the basis of Gender, Age, City, and Stay in City\n",
    "\n",
    "pd.pivot_table(data = Bfs, index = ('Age', 'Gender'), values = 'Purchase', columns = ['City_Category', 'City_Stay'], aggfunc = 'mean')"
   ]
  },
  {
   "cell_type": "markdown",
   "id": "b5f160e4",
   "metadata": {},
   "source": [
    "### Data Visualization"
   ]
  },
  {
   "cell_type": "markdown",
   "id": "f9781040",
   "metadata": {},
   "source": [
    "* For data visualization we are going to use two python libraries.\n",
    "    1. Seaborn\n",
    "    2. Matplotlib"
   ]
  },
  {
   "cell_type": "code",
   "execution_count": 63,
   "id": "586abf06",
   "metadata": {},
   "outputs": [
    {
     "name": "stderr",
     "output_type": "stream",
     "text": [
      "C:\\Users\\Beena Pandey\\anaconda3\\lib\\site-packages\\seaborn\\_decorators.py:36: FutureWarning: Pass the following variable as a keyword arg: x. From version 0.12, the only valid positional argument will be `data`, and passing other arguments without an explicit keyword will result in an error or misinterpretation.\n",
      "  warnings.warn(\n"
     ]
    },
    {
     "data": {
      "image/png": "[encoded data removed]",
      "text/plain": [
       "<Figure size 400x400 with 1 Axes>"
      ]
     },
     "metadata": {
      "needs_background": "light"
     },
     "output_type": "display_data"
    },
    {
     "name": "stdout",
     "output_type": "stream",
     "text": [
      "[414259 135809]\n"
     ]
    }
   ],
   "source": [
    "# Column : Gender \n",
    "\n",
    "plt.figure(figsize = (5,5), dpi = 80)\n",
    "plt.title('GENDER')\n",
    "sns.countplot(Bfs['Gender'], palette = 'rocket_r')\n",
    "\n",
    "plt.show()\n",
    "print(Bfs['Gender'].value_counts().unique())"
   ]
  },
  {
   "cell_type": "markdown",
   "id": "156b2bc3",
   "metadata": {},
   "source": [
    "* This tells us that there are more males buying different products during the _Black Friday Sale_ than females.\n",
    "    1. Total Male Count : 4,14,259\n",
    "    2. Total Female Count : 1,35,809"
   ]
  },
  {
   "cell_type": "code",
   "execution_count": 64,
   "id": "3cd0d437",
   "metadata": {},
   "outputs": [
    {
     "data": {
      "image/png": "[encoded data removed]",
      "text/plain": [
       "<Figure size 400x400 with 1 Axes>"
      ]
     },
     "metadata": {
      "needs_background": "light"
     },
     "output_type": "display_data"
    },
    {
     "name": "stdout",
     "output_type": "stream",
     "text": [
      "[375301  99660  60005  15102]\n"
     ]
    }
   ],
   "source": [
    "# Column : Age\n",
    "\n",
    "plt.figure(figsize = (5,5), dpi = 80)\n",
    "plt.title('AGE')\n",
    "sns.countplot(data = Bfs, x = 'Age', palette = 'crest')\n",
    "\n",
    "plt.show()\n",
    "print(Bfs['Age'].value_counts().unique())"
   ]
  },
  {
   "cell_type": "markdown",
   "id": "59816364",
   "metadata": {},
   "source": [
    "* The graph clearly tells us that Adults (26 - 50 years) visit the stores during the _Back Friday Sale_ in huge numbers whereas stores are least visited by the Children (0 - 17 years)."
   ]
  },
  {
   "cell_type": "markdown",
   "id": "245d1add",
   "metadata": {},
   "source": [
    "    1. Total Children Visiting the Store : 15,102 \n",
    "    2. Total Children Visiting the Store : 99,660\n",
    "    3. Total Children Visiting the Store : 3,75,301 \n",
    "    4. Total Children Visiting the Store : 60,005"
   ]
  },
  {
   "cell_type": "code",
   "execution_count": 65,
   "id": "5e1487dc",
   "metadata": {},
   "outputs": [
    {
     "name": "stderr",
     "output_type": "stream",
     "text": [
      "C:\\Users\\Beena Pandey\\anaconda3\\lib\\site-packages\\seaborn\\_decorators.py:36: FutureWarning: Pass the following variable as a keyword arg: x. From version 0.12, the only valid positional argument will be `data`, and passing other arguments without an explicit keyword will result in an error or misinterpretation.\n",
      "  warnings.warn(\n"
     ]
    },
    {
     "data": {
      "image/png": "[encoded data removed]",
      "text/plain": [
       "<Figure size 400x400 with 1 Axes>"
      ]
     },
     "metadata": {
      "needs_background": "light"
     },
     "output_type": "display_data"
    }
   ],
   "source": [
    "# Column : Occupation\n",
    "\n",
    "plt.figure(figsize = (5,5), dpi = 80)\n",
    "plt.title('OCCUPATION')\n",
    "sns.countplot(Bfs['Occupation'], palette = 'crest_r')\n",
    "\n",
    "plt.show()"
   ]
  },
  {
   "cell_type": "code",
   "execution_count": 66,
   "id": "5580e26b",
   "metadata": {},
   "outputs": [
    {
     "data": {
      "image/png": "[encoded data removed]",
      "text/plain": [
       "<Figure size 400x400 with 1 Axes>"
      ]
     },
     "metadata": {
      "needs_background": "light"
     },
     "output_type": "display_data"
    },
    {
     "name": "stdout",
     "output_type": "stream",
     "text": [
      "[231173 171175 147720]\n"
     ]
    }
   ],
   "source": [
    "# Column : City Category\n",
    "\n",
    "plt.figure(figsize = (5,5), dpi = 80)\n",
    "plt.title('CITY CATEGORY')\n",
    "sns.countplot(data = Bfs, x = 'City_Category', palette = 'inferno')\n",
    "\n",
    "plt.show()\n",
    "print(Bfs['City_Category'].value_counts().unique())"
   ]
  },
  {
   "cell_type": "code",
   "execution_count": 67,
   "id": "8dd72758",
   "metadata": {},
   "outputs": [
    {
     "data": {
      "image/png": "[encoded data removed]",
      "text/plain": [
       "<Figure size 400x400 with 1 Axes>"
      ]
     },
     "metadata": {},
     "output_type": "display_data"
    }
   ],
   "source": [
    "# Column : City Category (Percentage Distribution)\n",
    "\n",
    "#define data\n",
    "data = Bfs['City_Category'].value_counts(ascending = True)     # Counting the unique values frequency\n",
    "labels = Bfs['City_Category'].unique()    # Creating unique value labels\n",
    "\n",
    "plt.figure(figsize = (5,5), dpi = 80)\n",
    "\n",
    "plt.title('CITY CATEGORY', size = 10)\n",
    "\n",
    "#define Seaborn color palette to use\n",
    "colors = sns.color_palette('Spectral')\n",
    "\n",
    "#create pie chart\n",
    "plt.pie(data, labels = labels, colors = colors, autopct='%.0f%%')\n",
    "\n",
    "plt.show()"
   ]
  },
  {
   "cell_type": "markdown",
   "id": "b2b442fd",
   "metadata": {},
   "source": [
    "* People visiting the store maximum belong to _City Category B_ while the store is least visited by people belonging to _City Category A_.\n",
    "    1. Total People of City A : 1,47,720\n",
    "    2. Total People of City B : 2,31,173\n",
    "    3. Total People of City C : 1,71,175 "
   ]
  },
  {
   "cell_type": "markdown",
   "id": "d6492f91",
   "metadata": {},
   "source": [
    "* This shows that City A, City B, and City C has contributed 27%, 42%, and 31% respectively to the total purchase made on Black Friday Sale."
   ]
  },
  {
   "cell_type": "markdown",
   "id": "24cf8d5f",
   "metadata": {},
   "source": [
    "* By this we can also say that maximum stores are located in _City B_ "
   ]
  },
  {
   "cell_type": "code",
   "execution_count": 68,
   "id": "63688e59",
   "metadata": {},
   "outputs": [
    {
     "name": "stderr",
     "output_type": "stream",
     "text": [
      "C:\\Users\\Beena Pandey\\anaconda3\\lib\\site-packages\\seaborn\\_decorators.py:36: FutureWarning: Pass the following variable as a keyword arg: x. From version 0.12, the only valid positional argument will be `data`, and passing other arguments without an explicit keyword will result in an error or misinterpretation.\n",
      "  warnings.warn(\n"
     ]
    },
    {
     "data": {
      "image/png": "[encoded data removed]",
      "text/plain": [
       "<Figure size 400x400 with 1 Axes>"
      ]
     },
     "metadata": {
      "needs_background": "light"
     },
     "output_type": "display_data"
    }
   ],
   "source": [
    "# Column : Stay in Current City\n",
    "\n",
    "plt.figure(figsize = (5,5), dpi = 80)\n",
    "plt.title('STAY IN CURRENT CITY')\n",
    "sns.countplot(Bfs['City_Stay'], palette = 'hot')\n",
    "\n",
    "plt.show()"
   ]
  },
  {
   "cell_type": "markdown",
   "id": "25591029",
   "metadata": {},
   "source": [
    "* Maximum people visiting the store during the sale have been living in the city for 1 year while they are least visited by people who have newly setteled in the city."
   ]
  },
  {
   "cell_type": "code",
   "execution_count": 69,
   "id": "27c95ad3",
   "metadata": {},
   "outputs": [
    {
     "name": "stderr",
     "output_type": "stream",
     "text": [
      "C:\\Users\\Beena Pandey\\anaconda3\\lib\\site-packages\\seaborn\\_decorators.py:36: FutureWarning: Pass the following variable as a keyword arg: x. From version 0.12, the only valid positional argument will be `data`, and passing other arguments without an explicit keyword will result in an error or misinterpretation.\n",
      "  warnings.warn(\n"
     ]
    },
    {
     "data": {
      "image/png": "[encoded data removed]",
      "text/plain": [
       "<Figure size 400x400 with 1 Axes>"
      ]
     },
     "metadata": {
      "needs_background": "light"
     },
     "output_type": "display_data"
    },
    {
     "name": "stdout",
     "output_type": "stream",
     "text": [
      "[324731 225337]\n"
     ]
    }
   ],
   "source": [
    "# Column : Marital Status\n",
    "\n",
    "plt.figure(figsize = (5,5), dpi = 80)\n",
    "plt.title('MARITAL STATUS')\n",
    "sns.countplot(Bfs['MaritalStatus'], palette = 'hot_r')\n",
    "\n",
    "plt.show()\n",
    "print(Bfs['MaritalStatus'].value_counts().unique())"
   ]
  },
  {
   "cell_type": "code",
   "execution_count": 70,
   "id": "672a9314",
   "metadata": {},
   "outputs": [
    {
     "data": {
      "image/png": "[encoded data removed]",
      "text/plain": [
       "<Figure size 400x400 with 1 Axes>"
      ]
     },
     "metadata": {},
     "output_type": "display_data"
    }
   ],
   "source": [
    "# Column : Marital Status (Percentage Distribution)\n",
    "\n",
    "#define data\n",
    "data = Bfs['MaritalStatus'].value_counts()     # Counting the unique values frequency\n",
    "labels = Bfs['MaritalStatus'].unique()    # Creating unique value labels\n",
    "\n",
    "plt.figure(figsize = (5,5), dpi = 80)\n",
    "\n",
    "plt.title('MARITAL STATUS', size = 10)\n",
    "\n",
    "#define Seaborn color palette to use\n",
    "colors = sns.color_palette('pastel')\n",
    "\n",
    "#create pie chart\n",
    "plt.pie(data, labels = labels, colors = colors, autopct='%.0f%%')\n",
    "\n",
    "plt.show()"
   ]
  },
  {
   "cell_type": "markdown",
   "id": "ce0d7e34",
   "metadata": {},
   "source": [
    "* Unmarried people visting the store are in huge number as compared to singles during the _Black Friday Sale_.  \n",
    "\n",
    "    1. Total Single People : 3,24,731\n",
    "    2. Total Married People : 2,25,337"
   ]
  },
  {
   "cell_type": "markdown",
   "id": "b81c7920",
   "metadata": {},
   "source": [
    "* This shows that Unmarried and Married people have contributed 59% and 41% respectively to the total purchase made on Black Friday Sale."
   ]
  },
  {
   "cell_type": "code",
   "execution_count": 71,
   "id": "2cb1cc93",
   "metadata": {},
   "outputs": [
    {
     "name": "stderr",
     "output_type": "stream",
     "text": [
      "C:\\Users\\Beena Pandey\\anaconda3\\lib\\site-packages\\seaborn\\_decorators.py:36: FutureWarning: Pass the following variable as a keyword arg: x. From version 0.12, the only valid positional argument will be `data`, and passing other arguments without an explicit keyword will result in an error or misinterpretation.\n",
      "  warnings.warn(\n"
     ]
    },
    {
     "data": {
      "image/png": "[encoded data removed]",
      "text/plain": [
       "<Figure size 400x400 with 1 Axes>"
      ]
     },
     "metadata": {
      "needs_background": "light"
     },
     "output_type": "display_data"
    }
   ],
   "source": [
    "# Column : Product 1\n",
    "\n",
    "plt.figure(figsize = (5,5), dpi = 80)\n",
    "plt.title('PRODUCT 1')\n",
    "sns.countplot(Bfs['Product1'], palette = 'viridis')\n",
    "\n",
    "plt.show()"
   ]
  },
  {
   "cell_type": "code",
   "execution_count": 72,
   "id": "271c848a",
   "metadata": {},
   "outputs": [
    {
     "name": "stderr",
     "output_type": "stream",
     "text": [
      "C:\\Users\\Beena Pandey\\anaconda3\\lib\\site-packages\\seaborn\\_decorators.py:36: FutureWarning: Pass the following variable as a keyword arg: x. From version 0.12, the only valid positional argument will be `data`, and passing other arguments without an explicit keyword will result in an error or misinterpretation.\n",
      "  warnings.warn(\n"
     ]
    },
    {
     "data": {
      "image/png": "[encoded data removed]",
      "text/plain": [
       "<Figure size 400x400 with 1 Axes>"
      ]
     },
     "metadata": {
      "needs_background": "light"
     },
     "output_type": "display_data"
    }
   ],
   "source": [
    "# Column : Product 2\n",
    "\n",
    "plt.figure(figsize = (5,5), dpi = 80)\n",
    "plt.title('PRODUCT 2')\n",
    "sns.countplot(Bfs['Product2'], palette = 'viridis')\n",
    "\n",
    "plt.show()"
   ]
  },
  {
   "cell_type": "code",
   "execution_count": 73,
   "id": "2d294d10",
   "metadata": {},
   "outputs": [
    {
     "name": "stderr",
     "output_type": "stream",
     "text": [
      "C:\\Users\\Beena Pandey\\anaconda3\\lib\\site-packages\\seaborn\\_decorators.py:36: FutureWarning: Pass the following variable as a keyword arg: x. From version 0.12, the only valid positional argument will be `data`, and passing other arguments without an explicit keyword will result in an error or misinterpretation.\n",
      "  warnings.warn(\n"
     ]
    },
    {
     "data": {
      "image/png": "[encoded data removed]",
      "text/plain": [
       "<Figure size 400x400 with 1 Axes>"
      ]
     },
     "metadata": {
      "needs_background": "light"
     },
     "output_type": "display_data"
    }
   ],
   "source": [
    "# Column : Product 3\n",
    "\n",
    "plt.figure(figsize = (5,5), dpi = 80)\n",
    "plt.title('PRODUCT 3')\n",
    "sns.countplot(Bfs['Product3'], palette = 'viridis')\n",
    "\n",
    "plt.show()"
   ]
  },
  {
   "cell_type": "code",
   "execution_count": 74,
   "id": "667725af",
   "metadata": {},
   "outputs": [
    {
     "data": {
      "image/png": "[encoded data removed]",
      "text/plain": [
       "<Figure size 432x288 with 1 Axes>"
      ]
     },
     "metadata": {
      "needs_background": "light"
     },
     "output_type": "display_data"
    }
   ],
   "source": [
    "# Column : Pruchase\n",
    "\n",
    "plt.title('PURCHASE')\n",
    "sns.kdeplot(Bfs['Purchase'], color = 'brown')\n",
    "\n",
    "plt.show()"
   ]
  },
  {
   "cell_type": "markdown",
   "id": "c3ab72dc",
   "metadata": {},
   "source": [
    "* Purchase rate is highest between the range of 5,000 - 10,000.\n",
    "* Purchase rate even goes upto range 25,0000."
   ]
  },
  {
   "cell_type": "code",
   "execution_count": 75,
   "id": "d2a9ab8d",
   "metadata": {},
   "outputs": [
    {
     "data": {
      "image/png": "[encoded data removed]",
      "text/plain": [
       "<Figure size 400x400 with 1 Axes>"
      ]
     },
     "metadata": {
      "needs_background": "light"
     },
     "output_type": "display_data"
    }
   ],
   "source": [
    "# Gender v/s Purchase\n",
    "\n",
    "plt.figure(figsize = (5,5), dpi = 80)\n",
    "\n",
    "plt.title('GENDER vs PURCHASE', size = 10)\n",
    "sns.barplot(x = 'Gender', y = 'Purchase', data = Bfs, palette = 'brg')\n",
    "plt.xlabel('Gender', size = 8)\n",
    "plt.ylabel('Purchase', size = 8)\n",
    "\n",
    "plt.show()"
   ]
  },
  {
   "cell_type": "code",
   "execution_count": 76,
   "id": "72e74cd0",
   "metadata": {},
   "outputs": [
    {
     "data": {
      "image/png": "[encoded data removed]",
      "text/plain": [
       "<Figure size 720x720 with 4 Axes>"
      ]
     },
     "metadata": {
      "needs_background": "light"
     },
     "output_type": "display_data"
    }
   ],
   "source": [
    "plt.figure(figsize = (9,9), dpi = 80)\n",
    "\n",
    "\n",
    "plt.subplot(2,2,1)\n",
    "plt.title('AGE vs PURCHASE', size = 10)\n",
    "sns.barplot(x = 'Age', y = 'Purchase', data = Bfs, palette = 'rocket', hue= 'Gender')\n",
    "plt.xlabel('Age', size = 8)\n",
    "plt.ylabel('Purchase', size = 8)\n",
    "\n",
    "plt.subplot(2,2,2)\n",
    "plt.title('MARITAL STATUS vs PURCHASE', size = 10)\n",
    "sns.barplot(x ='MaritalStatus', y = 'Purchase', data = Bfs, palette = 'viridis', hue = 'Gender')\n",
    "plt.xlabel('Marital Status', size = 8)\n",
    "plt.ylabel('Purchase', size = 8)\n",
    "\n",
    "plt.subplot(2,2,3)\n",
    "plt.title('City vs PURCHASE', size = 10)\n",
    "sns.barplot(x = 'City_Category', y = 'Purchase', data = Bfs, palette='Purples', hue='Gender')\n",
    "plt.xlabel('City', size = 8)\n",
    "plt.ylabel('Purchase', size = 8)\n",
    "\n",
    "plt.subplot(2,2,4)\n",
    "plt.title('STAY in CITY  vs PURCHASE', size = 10)\n",
    "sns.barplot(x = 'City_Stay', y = 'Purchase', data = Bfs, palette = 'mako_r', hue = 'Gender')\n",
    "plt.xlabel('City_Stay', size = 8)\n",
    "plt.ylabel('Purchase', size = 8)\n",
    "\n",
    "\n",
    "plt.tight_layout()\n",
    "plt.show()"
   ]
  },
  {
   "cell_type": "markdown",
   "id": "d8ff2878",
   "metadata": {},
   "source": [
    "* From these graphs it is evident that the Purchasing Rate is high among the male population."
   ]
  },
  {
   "cell_type": "code",
   "execution_count": 77,
   "id": "56f4d923",
   "metadata": {},
   "outputs": [
    {
     "data": {
      "image/png": "[encoded data removed]",
      "text/plain": [
       "<Figure size 360x360 with 1 Axes>"
      ]
     },
     "metadata": {
      "needs_background": "light"
     },
     "output_type": "display_data"
    }
   ],
   "source": [
    "# Age vs purshase\n",
    "\n",
    "plt.figure(figsize = (5,5))\n",
    "plt.title\n",
    "sns.barplot(x = 'Age', y = 'Purchase', data = Bfs, palette = 'Set1')\n",
    "plt.xlabel('Age', size = 15)\n",
    "plt.ylabel('Purchase', size = 15)\n",
    "plt.show()"
   ]
  },
  {
   "cell_type": "code",
   "execution_count": 78,
   "id": "e75aeb37",
   "metadata": {},
   "outputs": [
    {
     "data": {
      "image/png": "[encoded data removed]",
      "text/plain": [
       "<Figure size 720x720 with 4 Axes>"
      ]
     },
     "metadata": {
      "needs_background": "light"
     },
     "output_type": "display_data"
    }
   ],
   "source": [
    "plt.figure(figsize = (9,9), dpi = 80)\n",
    "\n",
    "\n",
    "plt.subplot(2,2,1)\n",
    "plt.title('GENDER vs PURCHASE', size = 10)\n",
    "sns.barplot(x = 'Gender', y = 'Purchase', data = Bfs, palette = 'rocket', hue= 'Age')\n",
    "plt.xlabel('Gender', size = 8)\n",
    "plt.ylabel('Purchase', size = 8)\n",
    "\n",
    "plt.subplot(2,2,2)\n",
    "plt.title('MARITAL STATUS vs PURCHASE', size = 10)\n",
    "sns.barplot(x ='MaritalStatus', y = 'Purchase', data = Bfs, palette = 'viridis', hue = 'Age')\n",
    "plt.xlabel('Marital Status', size = 8)\n",
    "plt.ylabel('Purchase', size = 8)\n",
    "\n",
    "plt.subplot(2,2,3)\n",
    "plt.title('City vs PURCHASE', size = 10)\n",
    "sns.barplot(x = 'City_Category', y = 'Purchase', data = Bfs, palette='Purples', hue='Age')\n",
    "plt.xlabel('City', size = 8)\n",
    "plt.ylabel('Purchase', size = 8)\n",
    "\n",
    "plt.subplot(2,2,4)\n",
    "plt.title('STAY in CITY  vs PURCHASE', size = 10)\n",
    "sns.barplot(x = 'City_Stay', y = 'Purchase', data = Bfs, palette = 'mako_r', hue = 'Age')\n",
    "plt.xlabel('City_Stay', size = 8)\n",
    "plt.ylabel('Purchase', size = 8)\n",
    "\n",
    "\n",
    "plt.tight_layout()\n",
    "plt.show()"
   ]
  },
  {
   "cell_type": "markdown",
   "id": "23ef7fab",
   "metadata": {},
   "source": [
    "* This means that the purchase rate is the highest among the Old age people i.e. people belonging to the age group of 51 and onwards. \n",
    "* And is least among the Childern i.e. people belonging to the age group of new born to 17 years."
   ]
  },
  {
   "cell_type": "code",
   "execution_count": 79,
   "id": "e779185e",
   "metadata": {},
   "outputs": [
    {
     "data": {
      "image/png": "[encoded data removed]",
      "text/plain": [
       "<Figure size 800x800 with 3 Axes>"
      ]
     },
     "metadata": {
      "needs_background": "light"
     },
     "output_type": "display_data"
    }
   ],
   "source": [
    "# Plotting various Products vs Purchase\n",
    "\n",
    "plt.figure(figsize = (10,10), dpi = 80)\n",
    "\n",
    "plt.subplot(2,2,1)\n",
    "plt.title('PRODUCT 1 vs PURCHASE', size = 10)\n",
    "sns.barplot(x = 'Product1', y = 'Purchase', data = Bfs)\n",
    "plt.xlabel('PRODUCT 1', size = 8)\n",
    "plt.ylabel('Purchase', size = 8)\n",
    "plt.xticks(rotation=90)\n",
    "\n",
    "plt.subplot(2,2,2)\n",
    "plt.title('PRODUCT 2 vs PURCHASE', size = 10)\n",
    "sns.barplot(x = 'Product2', y = 'Purchase', data = Bfs)\n",
    "plt.xlabel('PRODUCT 2', size = 8)\n",
    "plt.ylabel('Purchase', size = 8)\n",
    "plt.xticks(rotation=90)\n",
    "\n",
    "plt.subplot(2,2,3)\n",
    "plt.title('PRODUCT 3 vs PURCHASE', size = 10)\n",
    "sns.barplot(x = 'Product3', y = 'Purchase', data = Bfs)\n",
    "plt.xlabel('PRODUCT 3', size = 8)\n",
    "plt.ylabel('Purchase', size = 8)\n",
    "plt.xticks(rotation=90)\n",
    "\n",
    "\n",
    "plt.tight_layout()\n",
    "plt.show()"
   ]
  },
  {
   "cell_type": "markdown",
   "id": "856ca6ec",
   "metadata": {},
   "source": [
    "* In Product 1 and Product 2 graph it can be seen that their 10th product is purchased the most while 3rd product of Product 3 is more purchesd in comparission to other products of Product 3  "
   ]
  },
  {
   "cell_type": "markdown",
   "id": "726cc633",
   "metadata": {},
   "source": [
    "* It can also be seen from these graphs that the 10th Product of Product 1 has been the most purchased product in comparsion to all the 3 Product i.e. Product 1, Product 2, and Product 3. "
   ]
  },
  {
   "cell_type": "code",
   "execution_count": 80,
   "id": "436e773c",
   "metadata": {},
   "outputs": [
    {
     "data": {
      "image/png": "[encoded data removed]",
      "text/plain": [
       "<Figure size 800x400 with 2 Axes>"
      ]
     },
     "metadata": {
      "needs_background": "light"
     },
     "output_type": "display_data"
    }
   ],
   "source": [
    "# Purchasing Distribution according to Marital Status\n",
    "\n",
    "plt.figure(figsize=(10,5),dpi = 80)\n",
    "\n",
    "plt.subplot(1,2,1)\n",
    "um = Bfs[bfs['MaritalStatus'] == 0].value_counts('Purchase')\n",
    "plt.title('UNMARRIED v/s PURCHASE', size = 10)\n",
    "sns.kdeplot('Purchase', data = um, color = 'b')\n",
    "\n",
    "plt.subplot(1,2,2)\n",
    "m = Bfs[Bfs['MaritalStatus'] == 1].value_counts('Purchase')\n",
    "plt.title('MARRIED v/s PURCHASE', size = 10)\n",
    "sns.kdeplot('Purchase', data = m, color = 'g')\n",
    "\n",
    "\n",
    "plt.tight_layout()\n",
    "plt.show()"
   ]
  },
  {
   "cell_type": "markdown",
   "id": "9791b6ca",
   "metadata": {},
   "source": [
    "* Purchase distribution of both 'Married' and 'UnMarried' customers is more or less the same."
   ]
  },
  {
   "cell_type": "code",
   "execution_count": 81,
   "id": "d5892745",
   "metadata": {
    "scrolled": true
   },
   "outputs": [
    {
     "data": {
      "image/png": "[encoded data removed]",
      "text/plain": [
       "<Figure size 800x400 with 2 Axes>"
      ]
     },
     "metadata": {
      "needs_background": "light"
     },
     "output_type": "display_data"
    }
   ],
   "source": [
    "# Purchasing Distribution according to Gender\n",
    "\n",
    "plt.figure(figsize=(10,5),dpi=80)\n",
    "\n",
    "plt.subplot(1,2,1)\n",
    "f = Bfs[Bfs['Gender'] == 'F'].value_counts('Purchase')\n",
    "plt.title('FEMALE v/s PURCHASE', size = 10)\n",
    "sns.kdeplot('Purchase', data = f, color = 'b')\n",
    "\n",
    "plt.subplot(1,2,2)\n",
    "ma = Bfs[Bfs['Gender']=='M'].value_counts('Purchase')\n",
    "plt.title('MALE v/s PURCHASE', size = 10)\n",
    "sns.kdeplot('Purchase',data = ma, color = 'g')\n",
    "\n",
    "\n",
    "plt.tight_layout()\n",
    "plt.show()"
   ]
  },
  {
   "cell_type": "markdown",
   "id": "bd462a35",
   "metadata": {},
   "source": [
    "* Purchase distribution of both 'Male' and 'Female' customers is more or less the same."
   ]
  },
  {
   "cell_type": "code",
   "execution_count": 82,
   "id": "451db465",
   "metadata": {},
   "outputs": [
    {
     "data": {
      "text/plain": [
       "<Figure size 500x500 with 0 Axes>"
      ]
     },
     "metadata": {},
     "output_type": "display_data"
    },
    {
     "data": {
      "image/png": "[encoded data removed]",
      "text/plain": [
       "<Figure size 797.875x360 with 2 Axes>"
      ]
     },
     "metadata": {
      "needs_background": "light"
     },
     "output_type": "display_data"
    }
   ],
   "source": [
    "plt.figure(figsize = (5,5), dpi = 100)\n",
    "\n",
    "sns.catplot(data = Bfs, x = 'Age', col = 'Gender', hue = 'City_Category', palette = 'rocket_r', kind = 'count')\n",
    "plt.show()"
   ]
  },
  {
   "cell_type": "markdown",
   "id": "69afb7df",
   "metadata": {},
   "source": [
    "###### Q. Out of the three product categories which is the most consumed product category in each city?"
   ]
  },
  {
   "cell_type": "markdown",
   "id": "23e7179c",
   "metadata": {},
   "source": [
    "##### Ans. "
   ]
  },
  {
   "cell_type": "code",
   "execution_count": 83,
   "id": "a082696d",
   "metadata": {},
   "outputs": [
    {
     "name": "stdout",
     "output_type": "stream",
     "text": [
      "{'A': [0, 1, 2, 3, 5, 9, 10, 11, 12, 13, 14, 15, 16, 17, 56, 57, 58, 59, 60, 61, 62, 63, 64, 85, 86, 87, 88, 89, 90, 91, 92, 93, 94, 95, 96, 98, 99, 100, 101, 102, 103, 104, 105, 106, 107, 108, 109, 110, 111, 124, 125, 126, 164, 165, 166, 167, 168, 169, 170, 171, 172, 173, 174, 175, 176, 177, 178, 179, 180, 181, 182, 183, 184, 185, 186, 187, 188, 234, 248, 249, 250, 251, 252, 253, 254, 255, 256, 257, 297, 298, 373, 374, 375, 376, 377, 378, 379, 380, 381, 382, ...], 'B': [6, 7, 8, 18, 29, 30, 31, 32, 33, 34, 35, 36, 37, 38, 39, 40, 41, 42, 43, 44, 45, 46, 70, 71, 72, 73, 74, 75, 76, 77, 78, 79, 80, 81, 82, 83, 84, 97, 112, 113, 114, 115, 116, 117, 118, 119, 120, 121, 122, 123, 130, 131, 132, 133, 134, 135, 136, 137, 138, 139, 140, 141, 196, 197, 198, 199, 200, 201, 202, 203, 204, 205, 206, 207, 208, 209, 210, 211, 212, 213, 214, 215, 216, 217, 218, 220, 221, 235, 236, 237, 238, 239, 240, 241, 242, 243, 244, 245, 246, 247, ...], 'C': [4, 19, 20, 21, 22, 23, 24, 25, 26, 27, 28, 47, 48, 49, 50, 51, 52, 53, 54, 55, 65, 66, 67, 68, 69, 127, 128, 129, 142, 143, 144, 145, 146, 147, 148, 149, 150, 151, 152, 153, 154, 155, 156, 157, 158, 159, 160, 161, 162, 163, 189, 190, 191, 192, 193, 194, 195, 219, 222, 223, 224, 225, 226, 227, 228, 229, 230, 231, 232, 233, 258, 259, 260, 261, 262, 263, 291, 292, 293, 294, 295, 296, 299, 300, 301, 302, 303, 333, 334, 335, 336, 337, 338, 339, 340, 341, 370, 371, 372, 388, ...]}\n"
     ]
    }
   ],
   "source": [
    "# Grouping the dataset on the basis of the cities\n",
    "\n",
    "Bfs_group = Bfs.groupby('City_Category')\n",
    "print(Bfs_group.groups)"
   ]
  },
  {
   "cell_type": "code",
   "execution_count": 84,
   "id": "b6ad1132",
   "metadata": {},
   "outputs": [
    {
     "data": {
      "text/plain": [
       "dict_keys(['A', 'B', 'C'])"
      ]
     },
     "execution_count": 84,
     "metadata": {},
     "output_type": "execute_result"
    }
   ],
   "source": [
    "# Getting group keys from the dataset\n",
    "\n",
    "bg = Bfs_group.groups.keys()\n",
    "bg"
   ]
  },
  {
   "cell_type": "code",
   "execution_count": 85,
   "id": "cd35576d",
   "metadata": {},
   "outputs": [
    {
     "name": "stdout",
     "output_type": "stream",
     "text": [
      "\n",
      " - City A : \n",
      "\n",
      "Product1     813387\n",
      "Product2    1471578\n",
      "Product3    1907037\n",
      "dtype: int64\n",
      ".........................\n",
      "\n",
      "\n",
      " - City B : \n",
      "\n",
      "Product1    1242828\n",
      "Product2    2284299\n",
      "Product3    2982602\n",
      "dtype: int64\n",
      ".........................\n",
      "\n",
      "\n",
      " - City C : \n",
      "\n",
      "Product1     916501\n",
      "Product2    1685451\n",
      "Product3    2205901\n",
      "dtype: int64\n",
      ".........................\n",
      "\n"
     ]
    }
   ],
   "source": [
    "for i in bg:\n",
    "    print('\\n - City {} :'.format(i), '\\n')\n",
    "    print(Bfs_group.get_group(i)[['Product1', 'Product2', 'Product3']].sum().sort_values(ascending = True))\n",
    "    print('.'*25)\n",
    "    print('')"
   ]
  },
  {
   "cell_type": "markdown",
   "id": "69052028",
   "metadata": {},
   "source": [
    "* Product 3 is the most consumed product in all the three cities where as Product 1 is the least consumed one."
   ]
  },
  {
   "cell_type": "markdown",
   "id": "9ea5e1d8",
   "metadata": {},
   "source": [
    "### Observation :-"
   ]
  },
  {
   "cell_type": "markdown",
   "id": "dc1bf7d6",
   "metadata": {},
   "source": [
    "1. Males had shown up at stores in large numbers during the sale.\n",
    "    * There is an interesing finding in this analysis. There is a humongus gap between the number of men and women visiting different stores during the Black Friday Sale and making purchases. However, this gap significantly reduces when we look at the amount of purchases made by both the genders.\n",
    "    * This tells perhaps women spent money on products with high MRP. Or another possibility could be that they bought large quatities of the product."
   ]
  },
  {
   "cell_type": "markdown",
   "id": "394a09f1",
   "metadata": {},
   "source": [
    "2. During the sale adults between the age group of 26 to 50 years visited the stores and made purchases in large numbers.\n",
    "    * However, the purchasing power can be seen high among the people of older generation (51 to 55+ years of age). This means that older people spent more money than any other generations. \n",
    "    * While it is least among the children (0 to 17 years). "
   ]
  },
  {
   "cell_type": "markdown",
   "id": "9e1e82e0",
   "metadata": {},
   "source": [
    "3. In City B maximum people made purchases."
   ]
  },
  {
   "cell_type": "markdown",
   "id": "1a9ea156",
   "metadata": {},
   "source": [
    "4. Unmarried People did maximum purchasing"
   ]
  },
  {
   "cell_type": "markdown",
   "id": "062c44aa",
   "metadata": {},
   "source": [
    "5. People made maximum purchases in between the range of 5,000 to 10,000."
   ]
  },
  {
   "cell_type": "markdown",
   "id": "23163925",
   "metadata": {},
   "source": [
    "6. In Product 1 and Product 2 graph it can be seen that their 10th product is purchased the most while 3rd product of Product 3 is more purchesd in comparission to other products of Product 3 "
   ]
  },
  {
   "cell_type": "markdown",
   "id": "7325ecfb",
   "metadata": {},
   "source": [
    "7. It can also be seen from these graphs that the 10th Product of Product 1 has been the most purchased product in comparsion to all the 3 Product i.e. Product 1, Product 2, and Product 3.  "
   ]
  },
  {
   "cell_type": "markdown",
   "id": "397f0d44",
   "metadata": {},
   "source": [
    "8. Male children who have been living in City A for two years have the maximum pruchase mean. While Female and Male children who have been living in the City A for four or more years have the minimum purchase mean. "
   ]
  },
  {
   "cell_type": "markdown",
   "id": "6f68289f",
   "metadata": {},
   "source": [
    "### Result :-"
   ]
  },
  {
   "cell_type": "markdown",
   "id": "7f707140",
   "metadata": {},
   "source": [
    "The data set given to us was dirty.\n",
    "\n",
    "To clean the Pandas and Numpy was used. Null values were treated. Outlier were checked and were appropriately adjusted using capping. After cleaning we used Seaborn and Matplotlib libraries for data visualization to draw important obvervations."
   ]
  }
 ],
 "metadata": {
  "kernelspec": {
   "display_name": "Python 3 (ipykernel)",
   "language": "python",
   "name": "python3"
  },
  "language_info": {
   "codemirror_mode": {
    "name": "ipython",
    "version": 3
   },
   "file_extension": ".py",
   "mimetype": "text/x-python",
   "name": "python",
   "nbconvert_exporter": "python",
   "pygments_lexer": "ipython3",
   "version": "3.9.12"
  }
 },
 "nbformat": 4,
 "nbformat_minor": 5
}
